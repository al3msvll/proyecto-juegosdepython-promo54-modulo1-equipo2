{
 "cells": [
  {
   "cell_type": "code",
   "execution_count": null,
   "id": "2d94aeb1",
   "metadata": {},
   "outputs": [],
   "source": [
    "import random\n",
    "\n",
    "def ahorcado():\n",
    "    print('Bienvenido al juego del Ahorcado')\n",
    "    print('...............................................')\n",
    "    print('Tienes 5 intentos, si al 5 intento no aciertas, se te eliminará')\n",
    "    print('Suerte!')\n",
    "    palabras = [\"amor\", \"amistad\", \"familia\", \"felicidad\", \"esperanza\"] #lista de palabras\n",
    "    palabra = random.choice(palabras)\n",
    "    letras_adivinadas = [\"_\"] * len(palabras)\n",
    "    intentos = 5\n",
    "    while intentos > 0 and \"_\" in letras_adivinadas: #empieza el bucle\n",
    "        letra = letras_adivinadas()\n",
    "        respuesta_usuario = input(letra + \" \").strip().lower()\n",
    "        letra_correcta = input(palabras [1]).strip().lower()\n",
    "        if respuesta_usuario == letra_correcta:\n",
    "            print(\"Letra correcta\")\n",
    "        else:\n",
    "            intentos -= 1\n",
    "            print(\"Letra incorrecta, sigue intentándolo\")\n",
    "    \n",
    "\n"
   ]
  },
  {
   "cell_type": "code",
   "execution_count": 11,
   "id": "380a05fe",
   "metadata": {},
   "outputs": [],
   "source": [
    "import random\n",
    "\n",
    "def ahorcado(): \n",
    "    print('Bienvenido al juego del Ahorcado') \n",
    "    print('...............................................')\n",
    "    print('Tienes 5 intentos, si al 5 intento no aciertas, se te eliminará')\n",
    "    print('Suerte!')\n",
    "    palabras = [\"amor\", \"amistad\", \"familia\", \"felicidad\", \"esperanza\"] #lista de palabras\n",
    "    palabra = random.choice(palabras) \n",
    "    letras_adivinadas = [\"_\"] * len(palabras)\n",
    "    intentos = 5 \n",
    "    while intentos > 0 and \"_\" in letras_adivinadas: #empieza el bucle\n",
    "        print(\" \".join(letras_adivinadas))\n",
    "        respuesta_usuario = input(letra + \" \").strip().lower()\n",
    "        if respuesta_usuario == letra_correcta:\n",
    "            for i in range(len(palabra)):\n",
    "                if palabra[i] == respuesta_usuario:\n",
    "                    print(\"Letra correcta\")\n",
    "        else: \n",
    "            intentos -= 1\n",
    "            print(\"Letra incorrecta, sigue intentándolo\")"
   ]
  }
 ],
 "metadata": {
  "kernelspec": {
   "display_name": "base",
   "language": "python",
   "name": "python3"
  },
  "language_info": {
   "codemirror_mode": {
    "name": "ipython",
    "version": 3
   },
   "file_extension": ".py",
   "mimetype": "text/x-python",
   "name": "python",
   "nbconvert_exporter": "python",
   "pygments_lexer": "ipython3",
   "version": "3.12.7"
  }
 },
 "nbformat": 4,
 "nbformat_minor": 5
}
