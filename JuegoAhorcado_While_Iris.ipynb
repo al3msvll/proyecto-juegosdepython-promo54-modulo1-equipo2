{
 "cells": [
  {
   "cell_type": "code",
   "execution_count": 1,
   "id": "2d94aeb1",
   "metadata": {},
   "outputs": [],
   "source": [
    "import random\n",
    "\n",
    "def ahorcado():\n",
    "    print('Bienvenido al juego del Ahorcado')\n",
    "    print('...............................................')\n",
    "    print('Tienes 5 intentos, si al 5 intento no aciertas, se te eliminará')\n",
    "    print('Suerte!')\n",
    "    palabras = [\"amor\", \"amistad\", \"familia\", \"felicidad\", \"esperanza\"] #lista de palabras\n",
    "    palabra = random.choice(palabras)\n",
    "    letras_adivinadas = [\"_\"] * len(palabras)\n",
    "    intentos = 5\n",
    "    while intentos > 0 and \"_\" in letras_adivinadas: #empieza el bucle\n",
    "        letra = letras_adivinadas()\n",
    "        respuesta_usuario = input(letra + \" \").strip().lower()\n",
    "        letra_correcta = input(palabras [1]).strip().lower()\n",
    "        if respuesta_usuario == letra_correcta:\n",
    "            print(\"Letra correcta\")\n",
    "        else:\n",
    "            intentos -= 1\n",
    "            print(\"Letra incorrecta, sigue intentándolo\")\n",
    "    \n",
    "\n"
   ]
  },
  {
   "cell_type": "code",
   "execution_count": 2,
   "id": "66474aba",
   "metadata": {},
   "outputs": [
    {
     "name": "stdout",
     "output_type": "stream",
     "text": [
      "Bienvenido al juego del Ahorcado\n",
      "...............................................\n",
      "Tienes 5 intentos, si al 5 intento no aciertas, se te eliminará\n",
      "Suerte!\n"
     ]
    },
    {
     "ename": "TypeError",
     "evalue": "'list' object is not callable",
     "output_type": "error",
     "traceback": [
      "\u001b[1;31m---------------------------------------------------------------------------\u001b[0m",
      "\u001b[1;31mTypeError\u001b[0m                                 Traceback (most recent call last)",
      "Cell \u001b[1;32mIn[2], line 1\u001b[0m\n\u001b[1;32m----> 1\u001b[0m ahorcado()\n",
      "Cell \u001b[1;32mIn[1], line 13\u001b[0m, in \u001b[0;36mahorcado\u001b[1;34m()\u001b[0m\n\u001b[0;32m     11\u001b[0m intentos \u001b[38;5;241m=\u001b[39m \u001b[38;5;241m5\u001b[39m\n\u001b[0;32m     12\u001b[0m \u001b[38;5;28;01mwhile\u001b[39;00m intentos \u001b[38;5;241m>\u001b[39m \u001b[38;5;241m0\u001b[39m \u001b[38;5;129;01mand\u001b[39;00m \u001b[38;5;124m\"\u001b[39m\u001b[38;5;124m_\u001b[39m\u001b[38;5;124m\"\u001b[39m \u001b[38;5;129;01min\u001b[39;00m letras_adivinadas: \u001b[38;5;66;03m#empieza el bucle\u001b[39;00m\n\u001b[1;32m---> 13\u001b[0m     letra \u001b[38;5;241m=\u001b[39m letras_adivinadas()\n\u001b[0;32m     14\u001b[0m     respuesta_usuario \u001b[38;5;241m=\u001b[39m \u001b[38;5;28minput\u001b[39m(letra \u001b[38;5;241m+\u001b[39m \u001b[38;5;124m\"\u001b[39m\u001b[38;5;124m \u001b[39m\u001b[38;5;124m\"\u001b[39m)\u001b[38;5;241m.\u001b[39mstrip()\u001b[38;5;241m.\u001b[39mlower()\n\u001b[0;32m     15\u001b[0m     letra_correcta \u001b[38;5;241m=\u001b[39m \u001b[38;5;28minput\u001b[39m(palabras [\u001b[38;5;241m1\u001b[39m])\u001b[38;5;241m.\u001b[39mstrip()\u001b[38;5;241m.\u001b[39mlower()\n",
      "\u001b[1;31mTypeError\u001b[0m: 'list' object is not callable"
     ]
    }
   ],
   "source": [
    "ahorcado()"
   ]
  },
  {
   "cell_type": "code",
   "execution_count": 27,
   "id": "380a05fe",
   "metadata": {},
   "outputs": [],
   "source": [
    "import random\n",
    "\n",
    "def ahorcado(): \n",
    "    print('Bienvenido al juego del Ahorcado') \n",
    "    print('...............................................')\n",
    "    print('Tienes 5 intentos, si al 5 intento no aciertas, se te eliminará')\n",
    "    print('Suerte!')\n",
    "    #prueba palabras = [\"amor\", \"amistad\", \"familia\", \"felicidad\", \"esperanza\"] #lista de palabras\n",
    "    #prueba 2 palabra = random.choice(palabras) \n",
    "    palabra = \"ana\"\n",
    "    letra_correcta = list(palabra)\n",
    "    letras_adivinadas = [\"_\"] * len(palabra)\n",
    "    lista_letras = []\n",
    "    intentos = 5 \n",
    "    while intentos > 0 and \"_\" in letras_adivinadas: #empieza el bucle\n",
    "        print(\" \".join(letras_adivinadas))\n",
    "        respuesta_usuario = input(\"¿Cuál es la letra?\").strip().lower()\n",
    "        if respuesta_usuario in lista_letras:\n",
    "            print(\"Esa letra está repetida\")\n",
    "        else:\n",
    "            if respuesta_usuario in letra_correcta:\n",
    "                lista_letras.append(respuesta_usuario)\n",
    "                for i in range(len(palabra)):\n",
    "                    if palabra[i] == respuesta_usuario:\n",
    "                        print(\"Letra correcta\")\n",
    "                        letras_adivinadas[i] = respuesta_usuario\n",
    "            else: \n",
    "                intentos -= 1\n",
    "                print(\"Letra incorrecta\")\n",
    "                print(f\"Te quedan {intentos} intentos\")"
   ]
  },
  {
   "cell_type": "code",
   "execution_count": 14,
   "id": "73d07b08",
   "metadata": {},
   "outputs": [],
   "source": [
    "palabra = \"amor\"\n",
    "letra_correcta = list(palabra)\n",
    "letras_adivinadas = [\"_\"] * len(palabra)"
   ]
  },
  {
   "cell_type": "code",
   "execution_count": 15,
   "id": "6b333ea2",
   "metadata": {},
   "outputs": [
    {
     "data": {
      "text/plain": [
       "['a', 'm', 'o', 'r']"
      ]
     },
     "execution_count": 15,
     "metadata": {},
     "output_type": "execute_result"
    }
   ],
   "source": [
    "letra_correcta"
   ]
  },
  {
   "cell_type": "code",
   "execution_count": 16,
   "id": "f0303d48",
   "metadata": {},
   "outputs": [
    {
     "data": {
      "text/plain": [
       "['_', '_', '_', '_']"
      ]
     },
     "execution_count": 16,
     "metadata": {},
     "output_type": "execute_result"
    }
   ],
   "source": [
    "letras_adivinadas"
   ]
  },
  {
   "cell_type": "code",
   "execution_count": 28,
   "id": "0e88ee41",
   "metadata": {},
   "outputs": [
    {
     "name": "stdout",
     "output_type": "stream",
     "text": [
      "Bienvenido al juego del Ahorcado\n",
      "...............................................\n",
      "Tienes 5 intentos, si al 5 intento no aciertas, se te eliminará\n",
      "Suerte!\n",
      "_ _ _\n",
      "Letra correcta\n",
      "Letra correcta\n",
      "a _ a\n",
      "Letra correcta\n"
     ]
    }
   ],
   "source": [
    "ahorcado()"
   ]
  }
 ],
 "metadata": {
  "kernelspec": {
   "display_name": "base",
   "language": "python",
   "name": "python3"
  },
  "language_info": {
   "codemirror_mode": {
    "name": "ipython",
    "version": 3
   },
   "file_extension": ".py",
   "mimetype": "text/x-python",
   "name": "python",
   "nbconvert_exporter": "python",
   "pygments_lexer": "ipython3",
   "version": "3.12.7"
  }
 },
 "nbformat": 4,
 "nbformat_minor": 5
}
