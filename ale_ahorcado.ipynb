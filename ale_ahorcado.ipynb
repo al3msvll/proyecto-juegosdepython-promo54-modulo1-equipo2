{
 "cells": [
  {
   "cell_type": "code",
   "execution_count": 24,
   "id": "7fc2aa8a",
   "metadata": {},
   "outputs": [],
   "source": [
    "import random"
   ]
  },
  {
   "cell_type": "code",
   "execution_count": 44,
   "id": "7a7c7f1a",
   "metadata": {},
   "outputs": [
    {
     "name": "stdout",
     "output_type": "stream",
     "text": [
      "Bienvenido al Juego del Ahorcado\n",
      "Palabra añadida con éxito.\n",
      "Palabra añadida con éxito.\n",
      "Palabra añadida con éxito.\n",
      "Palabra añadida con éxito.\n",
      "Palabra añadida con éxito.\n"
     ]
    }
   ],
   "source": [
    "print('Bienvenido al Juego del Ahorcado')\n",
    "\n",
    "## Caso en el que haya un jugador. Se seleccionará de una lista una palabra a adivinar.\n",
    "## Para ello se tiene también una función donde se pueda ir añadiendo a esa lista diferentes palabras.   \n",
    "\n",
    "# Lista vacia\n",
    "lista_palabras = []\n",
    "\n",
    "# Función para agregar palabras a una lista\n",
    "def agregar_palabras(palabra):\n",
    "    palabra = str(palabra).lower()\n",
    "\n",
    "    if palabra in lista_palabras:\n",
    "        print('La palabra ya se encuentra en la lista.')\n",
    "    else: \n",
    "        lista_palabras.append(palabra)\n",
    "        print('Palabra añadida con éxito.')\n",
    "\n",
    "\n",
    "# Agregar palabras a la lista vacia\n",
    "agregar_palabras('lagarto')\n",
    "agregar_palabras('montaña')\n",
    "agregar_palabras('tijeras')\n",
    "agregar_palabras('espejo')\n",
    "agregar_palabras('naranja')\n",
    "\n",
    "\n",
    "## Se compacta la seleccion de palabra independientemente de si se tiene 1 o 2 jugadores. \n",
    "## ya que hay que indicarle a la función el número de jugadores. \n",
    "\n",
    "def eleccion_palabra(numero_jugadores, lista_palabras = None): \n",
    "    if numero_jugadores == 1: # persona vs computadora\n",
    "        palabra = random.choice(lista_palabras)\n",
    "        return palabra\n",
    "    elif numero_jugadores == 2: # persona vs persona\n",
    "        palabra = input('Indique la palabra secreta:').lower()\n",
    "        return palabra\n",
    "    else: \n",
    "        print('Ese número de jugadores no es posible.')\n",
    "        print('Indique si son 1 o 2 jugadores.')"
   ]
  },
  {
   "cell_type": "code",
   "execution_count": 26,
   "id": "533287b1",
   "metadata": {},
   "outputs": [],
   "source": [
    "palabra_secreta = eleccion_palabra(random.choice([1,2]), lista_palabras)"
   ]
  },
  {
   "cell_type": "code",
   "execution_count": 27,
   "id": "f40b684b",
   "metadata": {},
   "outputs": [
    {
     "data": {
      "text/plain": [
       "'comida'"
      ]
     },
     "execution_count": 27,
     "metadata": {},
     "output_type": "execute_result"
    }
   ],
   "source": [
    "palabra_secreta"
   ]
  },
  {
   "cell_type": "code",
   "execution_count": 28,
   "id": "1bf96baa",
   "metadata": {},
   "outputs": [],
   "source": [
    "##Inicializa el tablero de juego con guiones bajos (\"_\") para representar las letras no adivinadas. \n",
    "# palabra_secreta = \"ahorcado\"  # Puedes cambiar esta palabra por la que desees\n",
    "tablero = [\"_\"] * len(palabra_secreta)  \n",
    "letras_incorrectas = []\n",
    "intentos_restantes = 6\n",
    "juego_ganado = False\n",
    "intentos_realizados = 0         \n",
    "letras_adivinadas = 0\n",
    "letras_incorrectas_adivinadas = 0\n",
    "letras_restantes = len(palabra_secreta) "
   ]
  },
  {
   "cell_type": "code",
   "execution_count": 29,
   "id": "b405fe63",
   "metadata": {},
   "outputs": [],
   "source": [
    "palabra_secreta = palabra_secreta.lower()  # Asegura que la palabra sea en minúsculas\n",
    "def mostrar_tablero():\n",
    "    print(\" \".join(tablero))\n",
    "    print(f\"Letras incorrectas: {', '.join(letras_incorrectas)}\")\n",
    "    print(f\"Intentos restantes: {intentos_restantes}\")   \n",
    "    print (tablero.count(\"_\"), \"letras restantes\")\n",
    "     "
   ]
  },
  {
   "cell_type": "code",
   "execution_count": 30,
   "id": "3568a3f3",
   "metadata": {},
   "outputs": [
    {
     "data": {
      "text/plain": [
       "6"
      ]
     },
     "execution_count": 30,
     "metadata": {},
     "output_type": "execute_result"
    }
   ],
   "source": [
    "letras_restantes"
   ]
  },
  {
   "cell_type": "code",
   "execution_count": 31,
   "id": "78a3f501",
   "metadata": {},
   "outputs": [
    {
     "data": {
      "text/plain": [
       "['_', '_', '_', '_', '_', '_']"
      ]
     },
     "execution_count": 31,
     "metadata": {},
     "output_type": "execute_result"
    }
   ],
   "source": [
    "tablero"
   ]
  },
  {
   "cell_type": "code",
   "execution_count": 32,
   "id": "7dcaaf17",
   "metadata": {},
   "outputs": [
    {
     "name": "stdout",
     "output_type": "stream",
     "text": [
      "_ _ _ _ _ _\n",
      "Letras incorrectas: \n",
      "Intentos restantes: 6\n",
      "6 letras restantes\n"
     ]
    }
   ],
   "source": [
    "mostrar_tablero()"
   ]
  },
  {
   "cell_type": "code",
   "execution_count": 33,
   "id": "ec5e871d",
   "metadata": {},
   "outputs": [],
   "source": [
    "def dibujo_ahorcado (conteo_fallos):\n",
    "    if conteo_fallos == 1:\n",
    "        print('  _______          ') \n",
    "    elif conteo_fallos == 2: \n",
    "        print('  ___|___           ') \n",
    "    elif conteo_fallos == 3:\n",
    "        print('     |             ')\n",
    "        print('     |           ') \n",
    "        print('     |             ') \n",
    "        print('     |             ') \n",
    "        print('  ___|___           ') \n",
    "    elif conteo_fallos == 4:\n",
    "        print('     +------+       ')\n",
    "        print('     |             ')\n",
    "        print('     |           ') \n",
    "        print('     |             ') \n",
    "        print('     |             ') \n",
    "        print('  ___|___           ') \n",
    "    elif conteo_fallos == 5:\n",
    "        print('     +------+       ')\n",
    "        print('     |      O       ')\n",
    "        print('     |           ') \n",
    "        print('     |             ') \n",
    "        print('     |             ') \n",
    "        print('  ___|___           ') \n",
    "    elif conteo_fallos == 6:\n",
    "        print('     +------+       ')\n",
    "        print('     |      O       ')\n",
    "        print('     |      |     ') \n",
    "        print('     |      |       ') \n",
    "        print('     |             ') \n",
    "        print('  ___|___           ') \n",
    "    elif conteo_fallos == 7:\n",
    "        print('     +------+       ')\n",
    "        print('     |      O       ')\n",
    "        print('     |    --|     ') \n",
    "        print('     |      |       ') \n",
    "        print('     |             ') \n",
    "        print('  ___|___           ') \n",
    "    elif conteo_fallos == 8:\n",
    "        print('     +------+       ')\n",
    "        print('     |      O       ')\n",
    "        print('     |    --|--     ') \n",
    "        print('     |      |       ') \n",
    "        print('     |             ') \n",
    "        print('  ___|___           ') \n",
    "    elif conteo_fallos == 9:\n",
    "        print('     +------+       ')\n",
    "        print('     |      O       ')\n",
    "        print('     |    --|--     ') \n",
    "        print('     |      |       ') \n",
    "        print('     |     |        ') \n",
    "        print('  ___|___           ')     \n",
    "    elif conteo_fallos == 10:\n",
    "        print('     +------+       ')\n",
    "        print('     |      O       ')\n",
    "        print('     |    --|--     ') \n",
    "        print('     |      |       ') \n",
    "        print('     |     | |      ') \n",
    "        print('  ___|___           ') \n",
    "\n",
    "\n"
   ]
  },
  {
   "cell_type": "code",
   "execution_count": 34,
   "id": "ba0225ad",
   "metadata": {},
   "outputs": [
    {
     "name": "stdout",
     "output_type": "stream",
     "text": [
      "     |             \n",
      "     |           \n",
      "     |             \n",
      "     |             \n",
      "  ___|___           \n"
     ]
    }
   ],
   "source": [
    "dibujo_ahorcado(3)"
   ]
  },
  {
   "cell_type": "code",
   "execution_count": 35,
   "id": "53a47601",
   "metadata": {},
   "outputs": [
    {
     "name": "stdout",
     "output_type": "stream",
     "text": [
      "     +------+       \n",
      "     |      O       \n",
      "     |    --|--     \n",
      "     |      |       \n",
      "     |     | |      \n",
      "  ___|___           \n"
     ]
    }
   ],
   "source": [
    "dibujo_ahorcado(10)"
   ]
  },
  {
   "cell_type": "code",
   "execution_count": 36,
   "id": "eabee8f9",
   "metadata": {},
   "outputs": [
    {
     "name": "stdout",
     "output_type": "stream",
     "text": [
      "  _______          \n"
     ]
    }
   ],
   "source": [
    "dibujo_ahorcado(1)"
   ]
  },
  {
   "cell_type": "code",
   "execution_count": 37,
   "id": "fc882ec7",
   "metadata": {},
   "outputs": [],
   "source": [
    "def muerto_total():\n",
    "    print('     +------+       ')\n",
    "    print('     |      O       ')\n",
    "    print('     |    --|--     ') \n",
    "    print('     |      |       ') \n",
    "    print('     |     | |      ') \n",
    "    print('  ___|___           ') "
   ]
  },
  {
   "cell_type": "markdown",
   "id": "2137a599",
   "metadata": {},
   "source": [
    "def conteo_\n",
    "letras_adivinadas_general = []\n",
    "intentos_fallidos = 0\n",
    "palabra_secreta = \"universo\"\n",
    "letras_palabra_secreta = list(palabra_secreta)\n",
    "letras_opciones = \"kfjasduroiuenvñlip\"            #se podría buscar cómo hacer un random del abecedario\n",
    "\n",
    "for letra in letras_opciones:\n",
    "    if letra in letras_palabra_secreta:\n",
    "        letras_adivinadas.append(letra)\n",
    "        print(f\"La letra: {letra} está en la palabra secreta\")\n",
    "    else:\n",
    "        intentos_fallidos += 1\n",
    "        print(f\"Lo siento, la letra: {letra} no está en la palabra secreta. Inténtalo otra vez\")\n",
    "\n",
    "print(f\"Letras adivinadas: {letras_adivinadas}\")\n",
    "print(f\"Intentos fallidos: {intentos_fallidos}\")"
   ]
  },
  {
   "cell_type": "code",
   "execution_count": 46,
   "id": "ada0e6dd",
   "metadata": {},
   "outputs": [
    {
     "data": {
      "text/plain": [
       "['lagarto', 'montaña', 'tijeras', 'espejo', 'naranja']"
      ]
     },
     "execution_count": 46,
     "metadata": {},
     "output_type": "execute_result"
    }
   ],
   "source": [
    "lista_palabras"
   ]
  },
  {
   "cell_type": "code",
   "execution_count": 48,
   "id": "15a7a260",
   "metadata": {},
   "outputs": [],
   "source": [
    "def ahorcado(): \n",
    "    print('Bienvenido al juego del Ahorcado') \n",
    "    print('...............................................')\n",
    "    print('Tienes 10 intentos, si al décimo intento no aciertas, se te eliminará')\n",
    "    print('Suerte!')\n",
    "    numero_jugadores = input('Número de jugadores (1 ó 2): ')\n",
    "    palabra = eleccion_palabra(numero_jugadores, lista_palabras)\n",
    "    letra_correcta = list(palabra)\n",
    "    letras_adivinadas = [\"_\"] * len(palabra)\n",
    "    lista_letras = []\n",
    "    intentos = 10 \n",
    "    conteo_aciertos = 0\n",
    "    conteo_fallos = 0\n",
    "    while intentos > 0 and \"_\" in letras_adivinadas: #empieza el bucle\n",
    "        print(\" \".join(letras_adivinadas))\n",
    "        respuesta_usuario = input(\"¿Cuál es la letra?\").strip().lower()\n",
    "        if respuesta_usuario in lista_letras:\n",
    "            print(\"Esa letra está repetida\")\n",
    "        else:\n",
    "            if respuesta_usuario in letra_correcta:\n",
    "                lista_letras.append(respuesta_usuario)\n",
    "                for i in range(len(palabra)):\n",
    "                    if palabra[i] == respuesta_usuario:\n",
    "                        print(\"Letra correcta\")\n",
    "                        letras_adivinadas[i] = respuesta_usuario\n",
    "                        conteo_aciertos += 1\n",
    "            else: \n",
    "                intentos -= 1\n",
    "                conteo_fallos += 1\n",
    "                dibujo_ahorcado(conteo_fallos)\n",
    "                print(\"Letra incorrecta\")\n",
    "                print(f\"Te quedan {intentos} intentos\")   \n",
    "                \n",
    "                "
   ]
  },
  {
   "cell_type": "code",
   "execution_count": 49,
   "id": "8f8d60df",
   "metadata": {},
   "outputs": [
    {
     "name": "stdout",
     "output_type": "stream",
     "text": [
      "Bienvenido al juego del Ahorcado\n",
      "...............................................\n",
      "Tienes 10 intentos, si al décimo intento no aciertas, se te eliminará\n",
      "Suerte!\n",
      "Ese número de jugadores no es posible.\n",
      "Indique si son 1 o 2 jugadores.\n"
     ]
    },
    {
     "ename": "TypeError",
     "evalue": "'NoneType' object is not iterable",
     "output_type": "error",
     "traceback": [
      "\u001b[1;31m---------------------------------------------------------------------------\u001b[0m",
      "\u001b[1;31mTypeError\u001b[0m                                 Traceback (most recent call last)",
      "Cell \u001b[1;32mIn[49], line 1\u001b[0m\n\u001b[1;32m----> 1\u001b[0m ahorcado()\n",
      "Cell \u001b[1;32mIn[48], line 8\u001b[0m, in \u001b[0;36mahorcado\u001b[1;34m()\u001b[0m\n\u001b[0;32m      6\u001b[0m numero_jugadores \u001b[38;5;241m=\u001b[39m \u001b[38;5;28minput\u001b[39m(\u001b[38;5;124m'\u001b[39m\u001b[38;5;124mNúmero de jugadores (1 ó 2): \u001b[39m\u001b[38;5;124m'\u001b[39m)\n\u001b[0;32m      7\u001b[0m palabra \u001b[38;5;241m=\u001b[39m eleccion_palabra(numero_jugadores, lista_palabras)\n\u001b[1;32m----> 8\u001b[0m letra_correcta \u001b[38;5;241m=\u001b[39m \u001b[38;5;28mlist\u001b[39m(palabra)\n\u001b[0;32m      9\u001b[0m letras_adivinadas \u001b[38;5;241m=\u001b[39m [\u001b[38;5;124m\"\u001b[39m\u001b[38;5;124m_\u001b[39m\u001b[38;5;124m\"\u001b[39m] \u001b[38;5;241m*\u001b[39m \u001b[38;5;28mlen\u001b[39m(palabra)\n\u001b[0;32m     10\u001b[0m lista_letras \u001b[38;5;241m=\u001b[39m []\n",
      "\u001b[1;31mTypeError\u001b[0m: 'NoneType' object is not iterable"
     ]
    }
   ],
   "source": [
    "ahorcado()"
   ]
  }
 ],
 "metadata": {
  "kernelspec": {
   "display_name": "base",
   "language": "python",
   "name": "python3"
  },
  "language_info": {
   "codemirror_mode": {
    "name": "ipython",
    "version": 3
   },
   "file_extension": ".py",
   "mimetype": "text/x-python",
   "name": "python",
   "nbconvert_exporter": "python",
   "pygments_lexer": "ipython3",
   "version": "3.12.3"
  }
 },
 "nbformat": 4,
 "nbformat_minor": 5
}
