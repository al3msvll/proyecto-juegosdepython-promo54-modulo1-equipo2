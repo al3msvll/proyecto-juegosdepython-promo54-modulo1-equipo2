{
 "cells": [
  {
   "cell_type": "code",
   "execution_count": 1,
   "id": "7fc2aa8a",
   "metadata": {},
   "outputs": [],
   "source": [
    "import random"
   ]
  },
  {
   "cell_type": "code",
   "execution_count": null,
   "id": "7a7c7f1a",
   "metadata": {},
   "outputs": [
    {
     "name": "stdout",
     "output_type": "stream",
     "text": [
      "Bienvenido al Juego del Ahorcado\n",
      "Palabra añadida con éxito.\n",
      "Palabra añadida con éxito.\n",
      "Palabra añadida con éxito.\n",
      "Palabra añadida con éxito.\n",
      "Palabra añadida con éxito.\n"
     ]
    }
   ],
   "source": [
    "print('Bienvenido al Juego del Ahorcado')\n",
    "\n",
    "## Caso en el que haya un jugador. Se seleccionará de una lista una palabra a adivinar.\n",
    "## Para ello se tiene también una función donde se pueda ir añadiendo a esa lista diferentes palabras.   \n",
    "\n",
    "# Lista vacia\n",
    "lista_palabras = []\n",
    "\n",
    "# Función para agregar palabras a una lista\n",
    "def agregar_palabras(palabra):\n",
    "    palabra = str(palabra).upper()\n",
    "\n",
    "    if palabra in lista_palabras:\n",
    "        print('La palabra ya se encuentra en la lista.')\n",
    "    else: \n",
    "        lista_palabras.append(palabra)\n",
    "        print('Palabra añadida con éxito.')\n",
    "\n",
    "\n",
    "# Agregar palabras a la lista vacia\n",
    "agregar_palabras('lagarto')\n",
    "agregar_palabras('montaña')\n",
    "agregar_palabras('tijeras')\n",
    "agregar_palabras('espejo')\n",
    "agregar_palabras('naranja')\n",
    "\n",
    "\n",
    "## Se compacta la seleccion de palabra independientemente de si se tiene 1 o 2 jugadores. \n",
    "## ya que hay que indicarle a la función el número de jugadores. \n",
    "\n",
    "def eleccion_palabra(numero_jugadores, lista_palabras = None): \n",
    "    if numero_jugadores == 1: # persona vs computadora\n",
    "        palabra = random.choice(lista_palabras)\n",
    "        return palabra\n",
    "    elif numero_jugadores == 2: # persona vs persona\n",
    "        palabra = input('Indique la palabra secreta:').upper()\n",
    "        return palabra\n",
    "    else: \n",
    "        print('Ese número de jugadores no es posible.')\n",
    "        print('Indique si son 1 o 2 jugadores.')"
   ]
  },
  {
   "cell_type": "code",
   "execution_count": 19,
   "id": "533287b1",
   "metadata": {},
   "outputs": [],
   "source": [
    "palabra_secreta = eleccion_palabra(random.choice([1,2]), lista_palabras)"
   ]
  },
  {
   "cell_type": "code",
   "execution_count": 20,
   "id": "f40b684b",
   "metadata": {},
   "outputs": [
    {
     "data": {
      "text/plain": [
       "'CENA'"
      ]
     },
     "execution_count": 20,
     "metadata": {},
     "output_type": "execute_result"
    }
   ],
   "source": [
    "palabra_secreta"
   ]
  },
  {
   "cell_type": "code",
   "execution_count": 21,
   "id": "1bf96baa",
   "metadata": {},
   "outputs": [],
   "source": [
    "##Inicializa el tablero de juego con guiones bajos (\"_\") para representar las letras no adivinadas. \n",
    "# palabra_secreta = \"ahorcado\"  # Puedes cambiar esta palabra por la que desees\n",
    "tablero = [\"_\"] * len(palabra_secreta)  \n",
    "letras_incorrectas = []\n",
    "intentos_restantes = 6\n",
    "juego_ganado = False\n",
    "intentos_realizados = 0         \n",
    "letras_adivinadas = 0\n",
    "letras_incorrectas_adivinadas = 0\n",
    "letras_restantes = len(palabra_secreta) "
   ]
  },
  {
   "cell_type": "code",
   "execution_count": 22,
   "id": "b405fe63",
   "metadata": {},
   "outputs": [],
   "source": [
    "palabra_secreta = palabra_secreta.lower()  # Asegura que la palabra sea en minúsculas\n",
    "def mostrar_tablero():\n",
    "    print(\" \".join(tablero))\n",
    "    print(f\"Letras incorrectas: {', '.join(letras_incorrectas)}\")\n",
    "    print(f\"Intentos restantes: {intentos_restantes}\")   \n",
    "    print (tablero.count(\"_\"), \"letras restantes\")\n",
    "     "
   ]
  },
  {
   "cell_type": "code",
   "execution_count": 23,
   "id": "3568a3f3",
   "metadata": {},
   "outputs": [
    {
     "data": {
      "text/plain": [
       "4"
      ]
     },
     "execution_count": 23,
     "metadata": {},
     "output_type": "execute_result"
    }
   ],
   "source": [
    "letras_restantes"
   ]
  },
  {
   "cell_type": "code",
   "execution_count": 24,
   "id": "78a3f501",
   "metadata": {},
   "outputs": [
    {
     "data": {
      "text/plain": [
       "['_', '_', '_', '_']"
      ]
     },
     "execution_count": 24,
     "metadata": {},
     "output_type": "execute_result"
    }
   ],
   "source": [
    "tablero"
   ]
  },
  {
   "cell_type": "code",
   "execution_count": 25,
   "id": "7dcaaf17",
   "metadata": {},
   "outputs": [
    {
     "name": "stdout",
     "output_type": "stream",
     "text": [
      "_ _ _ _\n",
      "Letras incorrectas: \n",
      "Intentos restantes: 6\n",
      "4 letras restantes\n"
     ]
    }
   ],
   "source": [
    "mostrar_tablero()"
   ]
  },
  {
   "cell_type": "code",
   "execution_count": null,
   "id": "15a7a260",
   "metadata": {},
   "outputs": [],
   "source": []
  }
 ],
 "metadata": {
  "kernelspec": {
   "display_name": "base",
   "language": "python",
   "name": "python3"
  },
  "language_info": {
   "codemirror_mode": {
    "name": "ipython",
    "version": 3
   },
   "file_extension": ".py",
   "mimetype": "text/x-python",
   "name": "python",
   "nbconvert_exporter": "python",
   "pygments_lexer": "ipython3",
   "version": "3.12.7"
  }
 },
 "nbformat": 4,
 "nbformat_minor": 5
}
