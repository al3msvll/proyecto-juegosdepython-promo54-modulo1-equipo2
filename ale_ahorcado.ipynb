{
 "cells": [
  {
   "cell_type": "code",
   "execution_count": 2,
   "id": "1bf96baa",
   "metadata": {},
   "outputs": [],
   "source": [
    "##Inicializa el tablero de juego con guiones bajos (\"_\") para representar las letras no adivinadas. \n",
    "palabra_secreta = \"ahorcado\"  # Puedes cambiar esta palabra por la que desees\n",
    "tablero = [\"_\"] * len(palabra_secreta)  \n",
    "letras_incorrectas = []\n",
    "intentos_restantes = 6\n",
    "juego_ganado = False\n",
    "intentos_realizados = 0         \n",
    "letras_adivinadas = 0\n",
    "letras_incorrectas_adivinadas = 0\n",
    "letras_restantes = len(palabra_secreta) "
   ]
  },
  {
   "cell_type": "code",
   "execution_count": 6,
   "id": "b405fe63",
   "metadata": {},
   "outputs": [],
   "source": [
    "palabra_secreta = palabra_secreta.lower()  # Asegura que la palabra sea en minúsculas\n",
    "def mostrar_tablero():\n",
    "    print(\" \".join(tablero))\n",
    "    print(f\"Letras incorrectas: {', '.join(letras_incorrectas)}\")\n",
    "    print(f\"Intentos restantes: {intentos_restantes}\")   \n",
    "    print (tablero.count(\"_\"), \"letras restantes\")\n",
    "     "
   ]
  },
  {
   "cell_type": "code",
   "execution_count": 19,
   "id": "0760fe72",
   "metadata": {},
   "outputs": [],
   "source": [
    "  def adivinar_letra(letra):\n",
    "    global intentos_restantes, letras_adivinadas, letras_incorrectas_adivinadas, letras_restantes, juego_ganado\n",
    "\n",
    "    if letra in palabra_secreta:\n",
    "        for i, l in enumerate(palabra_secreta):\n",
    "            if l == letra:\n",
    "                tablero[i] = letra\n",
    "                letras_adivinadas += 1\n",
    "                letras_restantes -= 1\n",
    "        if letras_restantes == 0:\n",
    "            juego_ganado = True\n",
    "    else:\n",
    "        if letra not in letras_incorrectas:\n",
    "            letras_incorrectas.append(letra)\n",
    "            intentos_restantes -= 1\n",
    "            letras_incorrectas_adivinadas += 1\n"
   ]
  },
  {
   "cell_type": "code",
   "execution_count": 18,
   "id": "3568a3f3",
   "metadata": {},
   "outputs": [
    {
     "data": {
      "text/plain": [
       "8"
      ]
     },
     "execution_count": 18,
     "metadata": {},
     "output_type": "execute_result"
    }
   ],
   "source": [
    "letras_restantes"
   ]
  },
  {
   "cell_type": "code",
   "execution_count": 17,
   "id": "78a3f501",
   "metadata": {},
   "outputs": [
    {
     "data": {
      "text/plain": [
       "['_', '_', '_', '_', '_', '_', '_', '_']"
      ]
     },
     "execution_count": 17,
     "metadata": {},
     "output_type": "execute_result"
    }
   ],
   "source": [
    "tablero"
   ]
  }
 ],
 "metadata": {
  "kernelspec": {
   "display_name": "base",
   "language": "python",
   "name": "python3"
  },
  "language_info": {
   "codemirror_mode": {
    "name": "ipython",
    "version": 3
   },
   "file_extension": ".py",
   "mimetype": "text/x-python",
   "name": "python",
   "nbconvert_exporter": "python",
   "pygments_lexer": "ipython3",
   "version": "3.12.7"
  }
 },
 "nbformat": 4,
 "nbformat_minor": 5
}
