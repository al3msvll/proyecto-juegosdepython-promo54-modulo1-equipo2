{
 "cells": [
  {
   "cell_type": "markdown",
   "id": "57e5faef",
   "metadata": {},
   "source": [
    "# JUEGO DEL AHORCADO"
   ]
  },
  {
   "cell_type": "code",
   "execution_count": null,
   "id": "d8afe397",
   "metadata": {},
   "outputs": [
    {
     "name": "stdout",
     "output_type": "stream",
     "text": [
      "Bienvenido al Juego del Ahorcado\n"
     ]
    }
   ],
   "source": [
    "print('Bienvenido al Juego del Ahorcado')\n",
    "\n",
    "palabra = input('Indique la palabra secreta:').upper()\n",
    "\n",
    "for p in palabra: \n",
    "    print(p) \n",
    "    # contador de vueltas para poner el número de guiónes \n",
    "    \n"
   ]
  },
  {
   "cell_type": "code",
   "execution_count": 15,
   "id": "24ed95bd",
   "metadata": {},
   "outputs": [],
   "source": [
    "# Función para agregar palabras a una lista\n",
    "\n",
    "lista_palabras = []\n",
    "\n",
    "def agregar_palabras(palabra):\n",
    "    palabra = str(palabra).upper()\n",
    "\n",
    "    if palabra in lista_palabras:\n",
    "        print('La palabra ya se encuentra en la lista.')\n",
    "    else: \n",
    "        lista_palabras.append(palabra)\n",
    "        print('Palabra añadida con éxito.')\n"
   ]
  },
  {
   "cell_type": "code",
   "execution_count": 16,
   "id": "7f085ea2",
   "metadata": {},
   "outputs": [
    {
     "name": "stdout",
     "output_type": "stream",
     "text": [
      "Palabra añadida con éxito.\n"
     ]
    }
   ],
   "source": [
    "agregar_palabras('Hola')"
   ]
  },
  {
   "cell_type": "code",
   "execution_count": 17,
   "id": "eaa68751",
   "metadata": {},
   "outputs": [
    {
     "name": "stdout",
     "output_type": "stream",
     "text": [
      "La palabra ya se encuentra en la lista.\n"
     ]
    }
   ],
   "source": [
    "agregar_palabras('hola')"
   ]
  },
  {
   "cell_type": "code",
   "execution_count": 18,
   "id": "16053f06",
   "metadata": {},
   "outputs": [
    {
     "data": {
      "text/plain": [
       "['HOLA']"
      ]
     },
     "execution_count": 18,
     "metadata": {},
     "output_type": "execute_result"
    }
   ],
   "source": [
    "lista_palabras"
   ]
  },
  {
   "cell_type": "code",
   "execution_count": null,
   "id": "a9cd4431",
   "metadata": {},
   "outputs": [],
   "source": []
  }
 ],
 "metadata": {
  "kernelspec": {
   "display_name": "base",
   "language": "python",
   "name": "python3"
  },
  "language_info": {
   "codemirror_mode": {
    "name": "ipython",
    "version": 3
   },
   "file_extension": ".py",
   "mimetype": "text/x-python",
   "name": "python",
   "nbconvert_exporter": "python",
   "pygments_lexer": "ipython3",
   "version": "3.12.7"
  }
 },
 "nbformat": 4,
 "nbformat_minor": 5
}
