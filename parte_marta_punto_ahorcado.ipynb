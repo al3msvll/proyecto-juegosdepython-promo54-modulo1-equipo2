{
 "cells": [
  {
   "cell_type": "markdown",
   "id": "426d1230",
   "metadata": {},
   "source": [
    "Punto 5"
   ]
  },
  {
   "cell_type": "code",
   "execution_count": null,
   "id": "7fa499dd",
   "metadata": {},
   "outputs": [],
   "source": [
    "letras_adivinadas = []\n",
    "intentos_fallidos = 0\n",
    "palabra_secreta = \"universo\"\n",
    "letras_palabra_secreta = list(palabra_secreta)\n",
    "letras_opciones = \"kfjasduroiuenvñlip\"            #se podría buscar cómo hacer un random del abecedario\n",
    "\n",
    "for letra in letras_opciones:\n",
    "    if letra in letras_palabra_secreta:\n",
    "        letras_adivinadas.append(letra)\n",
    "        print(f\"La letra: {letra} está en la palabra secreta\")\n",
    "    else:\n",
    "        intentos_fallidos += 1\n",
    "        print(f\"Lo siento, la letra: {letra} no está en la palabra secreta. Inténtalo otra vez\")\n",
    "\n",
    "print(f\"Letras adivinadas: {letras_adivinadas}\")\n",
    "print(f\"Intentos fallidos: {intentos_fallidos}\")\n",
    "\n",
    "\n"
   ]
  }
 ],
 "metadata": {
  "kernelspec": {
   "display_name": "Python 3",
   "language": "python",
   "name": "python3"
  },
  "language_info": {
   "name": "python",
   "version": "3.13.3"
  }
 },
 "nbformat": 4,
 "nbformat_minor": 5
}
