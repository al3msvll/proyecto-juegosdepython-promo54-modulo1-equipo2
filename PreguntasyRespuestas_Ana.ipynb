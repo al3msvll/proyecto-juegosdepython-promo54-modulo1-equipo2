{
 "cells": [
  {
   "cell_type": "markdown",
   "id": "74c3ca67",
   "metadata": {},
   "source": [
    "# Preguntas y Respuestas\n",
    "\n",
    "\n",
    "- Reglas del Juego de \"Preguntas y Respuestas de Geografía\":\n",
    "    - El juego consiste en hacer preguntas de geografía y que el jugador adivine la respuesta correcta.\n",
    "\n",
    "    - Cada pregunta tiene una respuesta única y correcta.\n",
    "\n",
    "    - El jugador tiene un número limitado de intentos para responder correctamente a cada pregunta.\n",
    "\n",
    "    - El juego sigue hasta que el jugador responda incorrectamente 3 de veces o haya respondido 5 preguntas correctamente.\n",
    "\n",
    "\n",
    "- Pistas para las alumnas:\n",
    "\n",
    "    1. Comienza creando un diccionario que contenga preguntas de geografía como claves y respuestas como valores.\n",
    "\n",
    "    2. Implementa una función para seleccionar una pregunta aleatoria del diccionario.\n",
    "\n",
    "    3. Utiliza un bucle `while` para hacer preguntas de geografía hasta que el jugador responda un número específico de preguntas correctamente o alcance un número máximo de respuestas incorrectas.\n",
    "\n",
    "    4. Dentro del bucle, presenta la pregunta al jugador y permita que ingresen sus respuestas.\n",
    "\n",
    "    5. Lleva un seguimiento del número de preguntas realizadas y el número de respuestas correctas.\n",
    "\n",
    "    6. Determina las condiciones de victoria y derrota del juego y sal del bucle cuando se cumplan estas condiciones."
   ]
  },
  {
   "cell_type": "code",
   "execution_count": 32,
   "id": "4a136581",
   "metadata": {},
   "outputs": [],
   "source": [
    "import random as rd"
   ]
  },
  {
   "cell_type": "code",
   "execution_count": 33,
   "id": "d836ab4d",
   "metadata": {},
   "outputs": [],
   "source": [
    "# 1. Diccionario que contenga las preguntas (claves) y las respuestas (valores)\n",
    "preguntas_respuestas = {\n",
    "    '1. ¿Cuál es el continente donde se encuentra Egipto?': 'África',      \n",
    "    '2. ¿Cuál es el río más largo del mundo?': 'río Nilo',         \n",
    "    '3. ¿En qué continente está Brasil?' : 'América del Sur',\n",
    "    '4. ¿Cuál es el océano más grande del planeta?': 'El océano Pacífico',     \n",
    "    '5. ¿Cuál es la capital de Francia?': 'París',\n",
    "    '6. ¿Qué país tiene forma de bota en Europa?': 'Italia',\n",
    "    '7. ¿Cuántos continentes hay en el mundo?': 'Siete', \n",
    "    '8. ¿En qué país está la Gran Muralla?' : 'China',\n",
    "    '9. ¿Qué continente es también un país?': 'Australia',\n",
    "    '10. ¿Cómo se llama el polo donde hace mucho frío y viven los pingüinos?': 'Polo Sur'}"
   ]
  },
  {
   "cell_type": "code",
   "execution_count": 34,
   "id": "7c9e2fe7",
   "metadata": {},
   "outputs": [],
   "source": [
    "lista_preguntas = list(preguntas_respuestas.keys())\n",
    "lista_respuestas = list(preguntas_respuestas.values())"
   ]
  },
  {
   "cell_type": "code",
   "execution_count": null,
   "id": "519f801c",
   "metadata": {},
   "outputs": [
    {
     "name": "stdout",
     "output_type": "stream",
     "text": [
      "['1. ¿Cuál es el continente donde se encuentra Egipto?', '2. ¿Cuál es el río más largo del mundo?', '3. ¿En qué continente está Brasil?', '4. ¿Cuál es el océano más grande del planeta?', '5. ¿Cuál es la capital de Francia?', '6. ¿Qué país tiene forma de bota en Europa?', '7. ¿Cuántos continentes hay en el mundo?', '8. ¿En qué país está la Gran Muralla?', '9. ¿Qué continente es también un país?', '10. ¿Cómo se llama el polo donde hace mucho frío y viven los pingüinos?']\n",
      "['África', 'río Nilo', 'América del Sur', 'El océano Pacífico', 'París', 'Italia', 'Siete', 'China', 'Australia', 'Polo Sur']\n"
     ]
    }
   ],
   "source": [
    "# print(lista_preguntas)\n",
    "# print(lista_respuestas)"
   ]
  },
  {
   "cell_type": "code",
   "execution_count": 38,
   "id": "63da0568",
   "metadata": {},
   "outputs": [
    {
     "data": {
      "text/plain": [
       "'9. ¿Qué continente es también un país?'"
      ]
     },
     "execution_count": 38,
     "metadata": {},
     "output_type": "execute_result"
    }
   ],
   "source": [
    "# 2. Implementa una función para seleccionar una pregunta aleatoria del diccionario.\n",
    "\n",
    "rd.choice(lista_preguntas)"
   ]
  },
  {
   "cell_type": "code",
   "execution_count": null,
   "id": "88418205",
   "metadata": {},
   "outputs": [],
   "source": [
    "def hacer_pregunta():\n",
    "    return rd.choice (lista_preguntas)\n",
    "\n",
    "# coregir queno salgan dos preguntas iguales seguidas"
   ]
  },
  {
   "cell_type": "code",
   "execution_count": 70,
   "id": "00ca9d90",
   "metadata": {},
   "outputs": [
    {
     "data": {
      "text/plain": [
       "'1. ¿Cuál es el continente donde se encuentra Egipto?'"
      ]
     },
     "execution_count": 70,
     "metadata": {},
     "output_type": "execute_result"
    }
   ],
   "source": [
    "hacer_pregunta()"
   ]
  },
  {
   "cell_type": "code",
   "execution_count": null,
   "id": "105d5d93",
   "metadata": {},
   "outputs": [],
   "source": []
  }
 ],
 "metadata": {
  "kernelspec": {
   "display_name": "base",
   "language": "python",
   "name": "python3"
  },
  "language_info": {
   "codemirror_mode": {
    "name": "ipython",
    "version": 3
   },
   "file_extension": ".py",
   "mimetype": "text/x-python",
   "name": "python",
   "nbconvert_exporter": "python",
   "pygments_lexer": "ipython3",
   "version": "3.12.3"
  }
 },
 "nbformat": 4,
 "nbformat_minor": 5
}
