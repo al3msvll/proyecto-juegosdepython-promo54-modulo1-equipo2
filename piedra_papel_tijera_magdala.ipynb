{
 "cells": [
  {
   "cell_type": "markdown",
   "id": "a43adb77",
   "metadata": {},
   "source": [
    "# PIEDRA, PAPEL Y TIJERA"
   ]
  },
  {
   "cell_type": "code",
   "execution_count": 24,
   "id": "6c25cd5c",
   "metadata": {},
   "outputs": [],
   "source": [
    "# Librerias a usar: \n",
    "\n",
    "import random"
   ]
  },
  {
   "cell_type": "code",
   "execution_count": 14,
   "id": "ff097a87",
   "metadata": {},
   "outputs": [],
   "source": [
    "puntos_objetivo = 3"
   ]
  },
  {
   "cell_type": "code",
   "execution_count": 20,
   "id": "7343051e",
   "metadata": {},
   "outputs": [],
   "source": [
    "def validar_opcion(eleccion):\n",
    "    opciones = ['piedra', 'papel', 'tijera']\n",
    "    eleccion = str(eleccion).lower()\n",
    "\n",
    "    if eleccion in opciones: \n",
    "        #print('La opción seleccionada es válida')\n",
    "        #return eleccion\n",
    "        return True\n",
    "\n",
    "    else: \n",
    "        print('La opción seleccionada no es válida.')\n",
    "        return False "
   ]
  },
  {
   "cell_type": "code",
   "execution_count": 25,
   "id": "b0991eef",
   "metadata": {},
   "outputs": [],
   "source": [
    "def jugar_piedra_papel_tijera():\n",
    "    opciones = [\"piedra\", \"papel\", \"tijera\"]\n",
    "    jugador1 = input(\"Jugador 1, elige piedra, papel o tijera: \").lower()\n",
    "    jugador2 = random.choice(opciones)\n",
    "\n",
    "    print(f\"Jugador 2 (computadora) eligió: {jugador2}\")\n",
    "\n",
    "    if jugador1 == jugador2:\n",
    "        print(\"¡Es un empate!\")\n",
    "    elif (jugador1 == \"piedra\" and jugador2 == \"tijera\") or \\\n",
    "        (jugador1 == \"papel\" and jugador2 == \"piedra\") or \\\n",
    "        (jugador1 == \"tijera\" and jugador2 == \"papel\"):\n",
    "        print(\"¡Jugador 1 gana!\")\n",
    "    else:\n",
    "        print(\"¡Jugador 2 gana!\")\n",
    "    return jugar_piedra_papel_tijera()"
   ]
  },
  {
   "cell_type": "code",
   "execution_count": null,
   "id": "2ef5ee8f",
   "metadata": {},
   "outputs": [
    {
     "name": "stdout",
     "output_type": "stream",
     "text": [
      "Jugador 2 (computadora) eligió: piedra\n",
      "¡Es un empate!\n",
      "Jugador 2 (computadora) eligió: papel\n",
      "¡Jugador 2 gana!\n",
      "Jugador 2 (computadora) eligió: tijera\n",
      "¡Jugador 1 gana!\n",
      "Jugador 2 (computadora) eligió: tijera\n",
      "¡Jugador 1 gana!\n",
      "Jugador 2 (computadora) eligió: papel\n",
      "¡Jugador 2 gana!\n",
      "Jugador 2 (computadora) eligió: papel\n",
      "¡Jugador 2 gana!\n",
      "Jugador 2 (computadora) eligió: tijera\n",
      "¡Jugador 1 gana!\n",
      "Jugador 2 (computadora) eligió: tijera\n",
      "¡Jugador 2 gana!\n",
      "Jugador 2 (computadora) eligió: papel\n",
      "¡Jugador 2 gana!\n",
      "Jugador 2 (computadora) eligió: papel\n",
      "¡Jugador 2 gana!\n",
      "Jugador 2 (computadora) eligió: tijera\n",
      "¡Jugador 2 gana!\n"
     ]
    }
   ],
   "source": [
    "# No ejecutar \n",
    "jugar_piedra_papel_tijera()"
   ]
  },
  {
   "cell_type": "code",
   "execution_count": 1,
   "id": "6323e01b",
   "metadata": {},
   "outputs": [],
   "source": [
    "# Verifica si algún jugador ha alcanzado el número de puntos objetivo y finalicen el juego cuando eso suceda\n",
    "\n",
    "def verificar_ganador(puntos_jugador1, puntos_jugador2, puntos_objetivo):\n",
    "    if puntos_jugador1 == puntos_objetivo:\n",
    "        print(\"¡Jugador 1 gana el juego!\")\n",
    "        return True\n",
    "    elif puntos_jugador2 == puntos_objetivo:\n",
    "        print(\"¡Jugador 2 gana el juego!\")\n",
    "        return True\n",
    "    return False\n",
    "# y finalicen el juego cuando eso suceda.\n",
    "def main():\n",
    "    puntos_jugador1 = 0\n",
    "    puntos_jugador2 = 0\n",
    "    puntos_objetivo = 3  # Número de puntos necesarios para ganar el juego\n",
    "    while True:\n",
    "        jugar_piedra_papel_tijera()\n",
    "        if verificar_ganador(puntos_jugador1, puntos_jugador2, puntos_objetivo):\n",
    "            break"
   ]
  },
  {
   "cell_type": "code",
   "execution_count": 2,
   "id": "5caaaaab",
   "metadata": {},
   "outputs": [
    {
     "data": {
      "text/plain": [
       "False"
      ]
     },
     "execution_count": 2,
     "metadata": {},
     "output_type": "execute_result"
    }
   ],
   "source": [
    "verificar_ganador(1, 2, 3)"
   ]
  },
  {
   "cell_type": "code",
   "execution_count": 3,
   "id": "f8cd8f29",
   "metadata": {},
   "outputs": [
    {
     "name": "stdout",
     "output_type": "stream",
     "text": [
      "¡Jugador 2 gana el juego!\n"
     ]
    },
    {
     "data": {
      "text/plain": [
       "True"
      ]
     },
     "execution_count": 3,
     "metadata": {},
     "output_type": "execute_result"
    }
   ],
   "source": [
    "verificar_ganador(1, 3, 3)"
   ]
  },
  {
   "cell_type": "code",
   "execution_count": 4,
   "id": "ee9034ff",
   "metadata": {},
   "outputs": [
    {
     "name": "stdout",
     "output_type": "stream",
     "text": [
      "¡Jugador 1 gana el juego!\n"
     ]
    },
    {
     "data": {
      "text/plain": [
       "True"
      ]
     },
     "execution_count": 4,
     "metadata": {},
     "output_type": "execute_result"
    }
   ],
   "source": [
    "verificar_ganador(3, 1, 3)"
   ]
  },
  {
   "cell_type": "code",
   "execution_count": 19,
   "id": "610b1723",
   "metadata": {},
   "outputs": [
    {
     "name": "stdout",
     "output_type": "stream",
     "text": [
      "La opción seleccionada no es válida.\n"
     ]
    }
   ],
   "source": [
    "validar_opcion(input(f\"Tienes que elegir entre: piedra, papel o tijera\").lower())"
   ]
  },
  {
   "cell_type": "code",
   "execution_count": 23,
   "id": "9eaee792",
   "metadata": {},
   "outputs": [
    {
     "data": {
      "text/plain": [
       "False"
      ]
     },
     "execution_count": 23,
     "metadata": {},
     "output_type": "execute_result"
    }
   ],
   "source": [
    "True and False"
   ]
  },
  {
   "cell_type": "code",
   "execution_count": null,
   "id": "8766d430",
   "metadata": {},
   "outputs": [
    {
     "name": "stdout",
     "output_type": "stream",
     "text": [
      "La opción seleccionada no es válida.\n",
      "La opción seleccionada no es válida.\n",
      "Eso es lo que ocurre cuando es valido.\n"
     ]
    }
   ],
   "source": [
    "puntos_jugador = 0\n",
    "puntos_computadora = 0\n",
    "puntos_objetivo = 3\n",
    "\n",
    "while puntos_jugador < puntos_objetivo and puntos_computadora < puntos_objetivo:             #si la condición del while se cumple, empieza el juego\n",
    "    eleccion_jugador = input(f\"Tienes que elegir entre: piedra, papel o tijera\").lower()    #turno del jugador\n",
    "    validar = validar_opcion(eleccion_jugador)\n",
    "    \n",
    "    if not validar:\n",
    "        continue\n",
    "    \n",
    "    print('Eso es lo que ocurre cuando es valido.')\n",
    "    break\n",
    "    #print(f\"Has elegido: {eleccion_jugador}\")\n",
    "    #eleccion_computadora = random.choice(\"piedra\", \"papel\", \"tijera\")                       #turno de la computadora\n",
    "    #print(f\"He elegido: {eleccion_computadora}\")\n",
    "    #if eleccion_jugador == eleccion_computadora:\n",
    "    #    print(\"Hemos empatado la ronda\")                                                        #eligen lo mismo empate\n",
    "    #elif (eleccion_jugador == \"piedra\" and eleccion_computadora == \"tijera\") and (eleccion_jugador == \"papel\" and eleccion_computadora == \"piedra\") and (eleccion_jugador == \"tijera\" and eleccion_computadora == )\n",
    "\n",
    "\n",
    "\n",
    "\n",
    "\n",
    "\n"
   ]
  }
 ],
 "metadata": {
  "kernelspec": {
   "display_name": "base",
   "language": "python",
   "name": "python3"
  },
  "language_info": {
   "codemirror_mode": {
    "name": "ipython",
    "version": 3
   },
   "file_extension": ".py",
   "mimetype": "text/x-python",
   "name": "python",
   "nbconvert_exporter": "python",
   "pygments_lexer": "ipython3",
   "version": "3.12.7"
  }
 },
 "nbformat": 4,
 "nbformat_minor": 5
}
