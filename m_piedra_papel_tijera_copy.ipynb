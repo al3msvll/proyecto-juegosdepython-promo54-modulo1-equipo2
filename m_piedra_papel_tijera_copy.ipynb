{
 "cells": [
  {
   "cell_type": "markdown",
   "id": "a43adb77",
   "metadata": {},
   "source": [
    "# PIEDRA, PAPEL Y TIJERA"
   ]
  },
  {
   "cell_type": "code",
   "execution_count": 5,
   "id": "6c25cd5c",
   "metadata": {},
   "outputs": [],
   "source": [
    "# Librerias a usar: \n",
    "\n",
    "import random"
   ]
  },
  {
   "cell_type": "code",
   "execution_count": 6,
   "id": "7343051e",
   "metadata": {},
   "outputs": [],
   "source": [
    "def validar_opcion(eleccion):\n",
    "    opciones = ['piedra', 'papel', 'tijera']\n",
    "    eleccion = str(eleccion).lower()\n",
    "\n",
    "    if eleccion in opciones: \n",
    "        #print('La opción seleccionada es válida')\n",
    "        #return eleccion\n",
    "        return True\n",
    "\n",
    "    else: \n",
    "        print('La opción seleccionada no es válida.')\n",
    "        return False "
   ]
  },
  {
   "cell_type": "code",
   "execution_count": null,
   "id": "b0991eef",
   "metadata": {},
   "outputs": [],
   "source": [
    "#def jugar_piedra_papel_tijera():\n",
    "   # opciones = [\"piedra\", \"papel\", \"tijera\"]\n",
    "    #jugador1 = input(\"Jugador 1, elige piedra, papel o tijera: \").lower()\n",
    "    #jugador2 = random.choice(opciones)\n",
    "\n",
    "    #print(f\"Jugador 2 (computadora) eligió: {jugador2}\")\n",
    "\n",
    "    #if jugador1 == jugador2:\n",
    "        #print(\"¡Es un empate!\")\n",
    "    #elif (jugador1 == \"piedra\" and jugador2 == \"tijera\") or \\\n",
    "        #(jugador1 == \"papel\" and jugador2 == \"piedra\") or \\\n",
    "        #(jugador1 == \"tijera\" and jugador2 == \"papel\"):\n",
    "        #print(\"¡Jugador 1 gana!\")\n",
    "    #else:\n",
    "        #print(\"¡Jugador 2 gana!\")\n",
    "    #return jugar_piedra_papel_tijera()"
   ]
  },
  {
   "cell_type": "code",
   "execution_count": 7,
   "id": "6323e01b",
   "metadata": {},
   "outputs": [],
   "source": [
    "# Verifica si algún jugador ha alcanzado el número de puntos objetivo y finalicen el juego cuando eso suceda\n",
    "\n",
    "def verificar_ganador(puntos_jugador1, puntos_jugador2, puntos_objetivo):\n",
    "    if puntos_jugador1 == puntos_objetivo:\n",
    "        print(\"¡Jugador 1 gana el juego!\")\n",
    "        return True\n",
    "    elif puntos_jugador2 == puntos_objetivo:\n",
    "        print(\"¡Jugador 2 gana el juego!\")\n",
    "        return True\n",
    "    return False\n",
    "# y finalicen el juego cuando eso suceda.\n",
    "def main():\n",
    "    puntos_jugador1 = 0\n",
    "    puntos_jugador2 = 0\n",
    "    puntos_objetivo = 3  # Número de puntos necesarios para ganar el juego\n",
    "    while True:\n",
    "        jugar_piedra_papel_tijera()\n",
    "        if verificar_ganador(puntos_jugador1, puntos_jugador2, puntos_objetivo):\n",
    "            break"
   ]
  },
  {
   "cell_type": "code",
   "execution_count": 11,
   "id": "8b09cb2c",
   "metadata": {},
   "outputs": [],
   "source": [
    "def resultado_ronda(eleccion_jugador, eleccion_computadora):\n",
    "    puntos_jugador = 0\n",
    "    puntos_computadora = 0\n",
    "    lista_puntos = []\n",
    "\n",
    "\n",
    "    if  eleccion_jugador == eleccion_computadora:                                    # si elien la misma palabra, imprime hemos empatado, o puede pasar que' se tiene que cumpliar alguna de las tres condiciones para imprimr, has ganado una ronda\n",
    "            print(f\"Hemos empatado\")\n",
    "    elif(eleccion_jugador == \"piedra\" and eleccion_computadora == \"tijera\") or (eleccion_jugador == \"papel\" and eleccion_computadora == \"piedra\") or (eleccion_jugador == \"tijera\"\n",
    "    and eleccion_computadora == \"papel\"):\n",
    "\n",
    "            print(f\"Has ganado la ronda. Sumas 1 punto\")                                # se suma 1 punto a la puntuación del juador\n",
    "            puntos_jugador +=1\n",
    "\n",
    "    else:\n",
    "            print(f\"Mala suerte, esta ronda me la he llevado yo. Sumo 1 punto\")        #si no se cumple nada de lo anterio , entonces gana la computadora la ronda\n",
    "            puntos_computadora +=1                                                      ## se suma 1 punto a la puntuación de la computadora\n",
    "\n",
    "    #print(f\"Recuento de puntos: El jugador lleva {puntos_jugador} puntos y la computadora lleva {puntos_computadora} puntos\")     #El recuento de puntos\n",
    "\n",
    "    lista_puntos = [puntos_jugador, puntos_computadora]\n",
    "\n",
    "    return lista_puntos\n"
   ]
  },
  {
   "cell_type": "code",
   "execution_count": 2,
   "id": "e123cf54",
   "metadata": {},
   "outputs": [
    {
     "name": "stdout",
     "output_type": "stream",
     "text": [
      "Has ganado la ronda. Sumas 1 punto\n",
      "Recuento de puntos: El jugador lleva 1 puntos y la computadora lleva 0 puntos\n"
     ]
    }
   ],
   "source": [
    "a = resultado_ronda('piedra', 'tijera')"
   ]
  },
  {
   "cell_type": "code",
   "execution_count": 4,
   "id": "b4f149ac",
   "metadata": {},
   "outputs": [
    {
     "data": {
      "text/plain": [
       "1"
      ]
     },
     "execution_count": 4,
     "metadata": {},
     "output_type": "execute_result"
    }
   ],
   "source": [
    "a[0]"
   ]
  },
  {
   "cell_type": "code",
   "execution_count": null,
   "id": "d9ba6fdf",
   "metadata": {},
   "outputs": [],
   "source": [
    "## ORIGINAL ##\n",
    "\n",
    "puntos_jugador = 0\n",
    "puntos_computadora = 0\n",
    "puntos_objetivo = 3\n",
    "\n",
    "while puntos_jugador < puntos_objetivo and puntos_computadora < puntos_objetivo:     #esta condición se va a cumplir siempre que ambos puntos, jugador y computadora, sean < que los puntos_objetivo. Es condición para inicia el juego\n",
    "    eleccion_jugador = input(f\"Elige entre piedra, papel, tijera\").lower()                 # el jugador tiene que elegir entre esas opciones, tiene que jugar\n",
    "    validar = validar_opcion(eleccion_jugador)\n",
    "    \n",
    "    if not validar:\n",
    "        continue\n",
    "\n",
    "    print(f\"Has elegido: {eleccion_jugador}\")\n",
    "    eleccion_computadora = random.choice([\"piedra\", \"papel\", \"tijera\"])              # le toca el turno a la computadora\n",
    "    print(f\"Y yo la computadora, he elegido: {eleccion_computadora}\")\n",
    "\n",
    "    r = resultado_ronda(eleccion_jugador, eleccion_computadora)\n",
    "\n",
    "    puntos_jugador += r[0]\n",
    "    puntos_computadora += r[1]\n",
    "\n",
    "    #if  eleccion_jugador == eleccion_computadora:                                    # si elien la misma palabra, imprime hemos empatado, o puede pasar que' se tiene que cumpliar alguna de las tres condiciones para imprimr, has ganado una ronda\n",
    "        #print(f\"Hemos empatado\")\n",
    "    #elif(eleccion_jugador == \"piedra\" and eleccion_computadora == \"tijera\") or (eleccion_jugador == \"papel\" and eleccion_computadora == \"piedra\") or (eleccion_jugador == \"tijera\"\n",
    "#and eleccion_computadora == \"papel\"):\n",
    "\n",
    "        #print(f\"Has ganado la ronda. Sumas 1 punto\")                                # se suma 1 punto a la puntuación del juador\n",
    "       # puntos_jugador +=1\n",
    "\n",
    "    #else:\n",
    "        #print(f\"Mala suerte, esta ronda me la he llevado yo. Sumo 1 punto\")        #si no se cumple nada de lo anterio , entonces gana la computadora la ronda\n",
    "        #puntos_computadora +=1                                                      ## se suma 1 punto a la puntuación de la computadora\n",
    "\n",
    "    #print(f\"Recuento de puntos: El jugador lleva {puntos_jugador} puntos y la computadora lleva {puntos_computadora} puntos\")     #El recuento de puntos\n",
    "\n",
    "print(verificar_ganador(puntos_jugador, puntos_computadora, puntos_objetivo))\n",
    "\n",
    "#if puntos_jugador == puntos_objetivo:                                           \n",
    "   #print(\"Enhorabuena, has ganado la partida!!\")\n",
    "\n",
    "#else:\n",
    "    #print(\"Has perdido la partida. En otra ocasión será. Sigue intentándolo\") \n"
   ]
  },
  {
   "cell_type": "code",
   "execution_count": null,
   "id": "52b58771",
   "metadata": {},
   "outputs": [],
   "source": [
    "## LIMPIO ##\n",
    "\n",
    "puntos_jugador = 0\n",
    "puntos_computadora = 0\n",
    "puntos_objetivo = 3\n",
    "\n",
    "while puntos_jugador < puntos_objetivo and puntos_computadora < puntos_objetivo:     #esta condición se va a cumplir siempre que ambos puntos, jugador y computadora, sean < que los puntos_objetivo. Es condición para inicia el juego\n",
    "    eleccion_jugador = input(f\"Elige entre piedra, papel, tijera\").lower()                 # el jugador tiene que elegir entre esas opciones, tiene que jugar\n",
    "    validar = validar_opcion(eleccion_jugador)\n",
    "    \n",
    "    if not validar:\n",
    "        continue\n",
    "\n",
    "    print(f\"Has elegido: {eleccion_jugador}\")\n",
    "    eleccion_computadora = random.choice([\"piedra\", \"papel\", \"tijera\"])              # le toca el turno a la computadora\n",
    "    print(f\"Y yo la computadora, he elegido: {eleccion_computadora}\")\n",
    "\n",
    "    r = resultado_ronda(eleccion_jugador, eleccion_computadora)\n",
    "\n",
    "    puntos_jugador += r[0]\n",
    "    puntos_computadora += r[1]\n",
    "\n",
    "print(verificar_ganador(puntos_jugador, puntos_computadora, puntos_objetivo))"
   ]
  },
  {
   "cell_type": "code",
   "execution_count": 12,
   "id": "e1f6111c",
   "metadata": {},
   "outputs": [],
   "source": [
    "def iniciar_juego():\n",
    "    puntos_jugador = 0\n",
    "    puntos_computadora = 0\n",
    "    puntos_objetivo = 3\n",
    "\n",
    "    while puntos_jugador < puntos_objetivo and puntos_computadora < puntos_objetivo:     #esta condición se va a cumplir siempre que ambos puntos, jugador y computadora, sean < que los puntos_objetivo. Es condición para inicia el juego\n",
    "        eleccion_jugador = input(f\"Elige entre piedra, papel, tijera\").lower()                 # el jugador tiene que elegir entre esas opciones, tiene que jugar\n",
    "        validar = validar_opcion(eleccion_jugador)\n",
    "        \n",
    "        if not validar:\n",
    "            continue\n",
    "\n",
    "        print(f\"Has elegido: {eleccion_jugador}\")\n",
    "        eleccion_computadora = random.choice([\"piedra\", \"papel\", \"tijera\"])              # le toca el turno a la computadora\n",
    "        print(f\"Y yo la computadora, he elegido: {eleccion_computadora}\")\n",
    "\n",
    "        r = resultado_ronda(eleccion_jugador, eleccion_computadora)\n",
    "\n",
    "        puntos_jugador += r[0]\n",
    "        puntos_computadora += r[1]\n",
    "\n",
    "        print(f\"Recuento de puntos: El jugador lleva {puntos_jugador} puntos y la computadora lleva {puntos_computadora} puntos\")\n",
    "\n",
    "    print(verificar_ganador(puntos_jugador, puntos_computadora, puntos_objetivo))"
   ]
  },
  {
   "cell_type": "code",
   "execution_count": 13,
   "id": "f8566f33",
   "metadata": {},
   "outputs": [
    {
     "name": "stdout",
     "output_type": "stream",
     "text": [
      "Has elegido: piedra\n",
      "Y yo la computadora, he elegido: papel\n",
      "Mala suerte, esta ronda me la he llevado yo. Sumo 1 punto\n",
      "Recuento de puntos: El jugador lleva 0 puntos y la computadora lleva 1 puntos\n",
      "Has elegido: piedra\n",
      "Y yo la computadora, he elegido: tijera\n",
      "Has ganado la ronda. Sumas 1 punto\n",
      "Recuento de puntos: El jugador lleva 1 puntos y la computadora lleva 1 puntos\n",
      "Has elegido: piedra\n",
      "Y yo la computadora, he elegido: piedra\n",
      "Hemos empatado\n",
      "Recuento de puntos: El jugador lleva 1 puntos y la computadora lleva 1 puntos\n",
      "Has elegido: piedra\n",
      "Y yo la computadora, he elegido: piedra\n",
      "Hemos empatado\n",
      "Recuento de puntos: El jugador lleva 1 puntos y la computadora lleva 1 puntos\n",
      "Has elegido: piedra\n",
      "Y yo la computadora, he elegido: piedra\n",
      "Hemos empatado\n",
      "Recuento de puntos: El jugador lleva 1 puntos y la computadora lleva 1 puntos\n",
      "Has elegido: piedra\n",
      "Y yo la computadora, he elegido: papel\n",
      "Mala suerte, esta ronda me la he llevado yo. Sumo 1 punto\n",
      "Recuento de puntos: El jugador lleva 1 puntos y la computadora lleva 2 puntos\n",
      "Has elegido: piedra\n",
      "Y yo la computadora, he elegido: papel\n",
      "Mala suerte, esta ronda me la he llevado yo. Sumo 1 punto\n",
      "Recuento de puntos: El jugador lleva 1 puntos y la computadora lleva 3 puntos\n",
      "¡Jugador 2 gana el juego!\n",
      "True\n"
     ]
    }
   ],
   "source": [
    "iniciar_juego()"
   ]
  },
  {
   "cell_type": "markdown",
   "id": "67864a78",
   "metadata": {},
   "source": [
    "Hablar con Alejandra sobre la función verificar ganador. \n",
    "Unificación de nomenclatura."
   ]
  },
  {
   "cell_type": "markdown",
   "id": "71fbf5a6",
   "metadata": {},
   "source": []
  }
 ],
 "metadata": {
  "kernelspec": {
   "display_name": "base",
   "language": "python",
   "name": "python3"
  },
  "language_info": {
   "codemirror_mode": {
    "name": "ipython",
    "version": 3
   },
   "file_extension": ".py",
   "mimetype": "text/x-python",
   "name": "python",
   "nbconvert_exporter": "python",
   "pygments_lexer": "ipython3",
   "version": "3.12.7"
  }
 },
 "nbformat": 4,
 "nbformat_minor": 5
}
