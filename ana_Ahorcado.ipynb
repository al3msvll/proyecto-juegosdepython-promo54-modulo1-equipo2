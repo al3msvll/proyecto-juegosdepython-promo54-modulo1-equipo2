{
 "cells": [
  {
   "cell_type": "markdown",
   "id": "57e5faef",
   "metadata": {},
   "source": [
    "# JUEGO DEL AHORCADO"
   ]
  },
  {
   "cell_type": "code",
   "execution_count": 56,
   "id": "d8afe397",
   "metadata": {},
   "outputs": [
    {
     "name": "stdout",
     "output_type": "stream",
     "text": [
      "Bienvenido al Juego del Ahorcado\n",
      "3\n"
     ]
    }
   ],
   "source": [
    "print('Bienvenido al Juego del Ahorcado')\n",
    "\n",
    "palabra = input('Indique la palabra secreta:').upper()\n",
    "\n",
    "print(palabra)\n",
    "\n",
    "#for p in palabra: \n",
    "#    print(p) \n",
    "    # contador de vueltas para poner el número de guiónes \n",
    "\n"
   ]
  },
  {
   "cell_type": "code",
   "execution_count": 57,
   "id": "24ed95bd",
   "metadata": {},
   "outputs": [],
   "source": [
    "# Función para agregar palabras a una lista\n",
    "\n",
    "lista_palabras = []\n",
    "\n",
    "def agregar_palabras(palabra):\n",
    "    palabra = str(palabra).upper()\n",
    "\n",
    "    if palabra in lista_palabras:\n",
    "        print('La palabra ya se encuentra en la lista.')\n",
    "    else: \n",
    "        lista_palabras.append(palabra)\n",
    "        print('Palabra añadida con éxito.')\n"
   ]
  },
  {
   "cell_type": "code",
   "execution_count": 58,
   "id": "7f085ea2",
   "metadata": {},
   "outputs": [
    {
     "name": "stdout",
     "output_type": "stream",
     "text": [
      "Palabra añadida con éxito.\n"
     ]
    }
   ],
   "source": [
    "agregar_palabras('Hola')"
   ]
  },
  {
   "cell_type": "code",
   "execution_count": 59,
   "id": "eaa68751",
   "metadata": {},
   "outputs": [
    {
     "name": "stdout",
     "output_type": "stream",
     "text": [
      "La palabra ya se encuentra en la lista.\n"
     ]
    }
   ],
   "source": [
    "agregar_palabras('hola')"
   ]
  },
  {
   "cell_type": "code",
   "execution_count": 60,
   "id": "16053f06",
   "metadata": {},
   "outputs": [
    {
     "data": {
      "text/plain": [
       "['HOLA']"
      ]
     },
     "execution_count": 60,
     "metadata": {},
     "output_type": "execute_result"
    }
   ],
   "source": [
    "lista_palabras"
   ]
  },
  {
   "cell_type": "markdown",
   "id": "d3fd81b9",
   "metadata": {},
   "source": [
    "- Un jugador elige una palabra secreta y dibuja un espacio para cada letra de la palabra.\n",
    "- El otro jugador intenta adivinar letras para completar la palabra.\n",
    "- Si el jugador adivinador adivina una letra correctamente, se revela en su lugar correspondiente.\n",
    "- Si el jugador adivinador adivina incorrectamente, se dibuja una parte del cuerpo en la horca.\n",
    "- El objetivo del jugador adivinador es adivinar la palabra antes de que se dibuje el dibujo completo en la horca."
   ]
  },
  {
   "cell_type": "markdown",
   "id": "a9cd4431",
   "metadata": {},
   "source": [
    "\n",
    "- Empieza por seleccionar una palabra secreta para que el jugador adivinador intente adivinar. Puedes crear una lista de palabras. @MPNimo\n",
    "\n",
    "Imprimir 'Bienvenido a el Juego del ahorcado' al inicio del juego\n",
    "\n",
    "2 jugadores\n",
    "\n",
    "crea una lista vacia tipo []\n",
    "\n",
    "crear palabras = n, (n=10) a la lista #para poder elegir una palabra de la lista\n",
    "\n",
    "crear una función agregar_palabras #funcion para agregar palabras a la lista\n",
    "\n",
    "selecciona un palabra\n",
    "\n",
    "\n",
    "- Inicializa el tablero de juego con guiones bajos (\"_\") para representar las letras no adivinadas. @al3msvll\n",
    "\n",
    "\n",
    "- Utiliza un bucle while para permitir que el jugador adivinador haga múltiples intentos hasta que adivine la palabra o se agoten los intentos. @irisbdelsol\n",
    "\n",
    "\n",
    "- Verifica si la letra adivinada por el jugador está en la palabra secreta y actualicen el tablero en consecuencia. @AnaROGA\n",
    "\n",
    "\n",
    "- Lleva un seguimiento de las letras adivinadas y los intentos fallidos. @MartaMorell\n",
    "\n",
    "\n",
    "- Determina las condiciones de victoria y derrota del juego, y salgan del bucle cuando se cumplan estas condiciones. ABIERTO"
   ]
  },
  {
   "cell_type": "code",
   "execution_count": 61,
   "id": "08bd74f1",
   "metadata": {},
   "outputs": [],
   "source": [
    "palabra_secreta = 'ppthnn'\n",
    "tablero_juego = ['_', '_', '_', '_', '_', '_']"
   ]
  },
  {
   "cell_type": "code",
   "execution_count": 62,
   "id": "0dd0329c",
   "metadata": {},
   "outputs": [],
   "source": [
    "# revisar ENUMERATE!!\n",
    "def verificar_letra(letra):\n",
    "    for indice, caracter in enumerate(palabra_secreta):\n",
    "        if caracter == letra.lower():\n",
    "            tablero_juego[indice] = letra.lower()\n",
    "    \n",
    "    print(tablero_juego)"
   ]
  },
  {
   "cell_type": "code",
   "execution_count": 63,
   "id": "807e06b7",
   "metadata": {},
   "outputs": [
    {
     "name": "stdout",
     "output_type": "stream",
     "text": [
      "['p', 'p', '_', '_', '_', '_']\n"
     ]
    }
   ],
   "source": [
    "verificar_letra('p')"
   ]
  },
  {
   "cell_type": "code",
   "execution_count": 64,
   "id": "7985bb4e",
   "metadata": {},
   "outputs": [],
   "source": [
    "def verificar_letra3 (letra):\n",
    "    for i in palabra_secreta:  \n",
    "        if i == letra.lower():\n",
    "            indice = palabra_secreta.index(i)  # índice de la primera aparición\n",
    "            tablero_juego[indice] = letra.lower()\n",
    "        else:\n",
    "            continue\n",
    "    \n",
    "    print(tablero_juego)"
   ]
  },
  {
   "cell_type": "code",
   "execution_count": 65,
   "id": "a8aac9a3",
   "metadata": {},
   "outputs": [
    {
     "name": "stdout",
     "output_type": "stream",
     "text": [
      "['p', 'p', '_', '_', '_', '_']\n"
     ]
    }
   ],
   "source": [
    "verificar_letra('s')"
   ]
  },
  {
   "cell_type": "code",
   "execution_count": 66,
   "id": "646c33bd",
   "metadata": {},
   "outputs": [
    {
     "name": "stdout",
     "output_type": "stream",
     "text": [
      "['p', 'p', '_', '_', '_', '_']\n"
     ]
    }
   ],
   "source": [
    "verificar_letra('p')"
   ]
  },
  {
   "cell_type": "code",
   "execution_count": 67,
   "id": "722b4d9a",
   "metadata": {},
   "outputs": [
    {
     "name": "stdout",
     "output_type": "stream",
     "text": [
      "['p', 'p', '_', '_', 'n', 'n']\n"
     ]
    }
   ],
   "source": [
    "verificar_letra('n')"
   ]
  },
  {
   "cell_type": "code",
   "execution_count": 68,
   "id": "143d85a6",
   "metadata": {},
   "outputs": [
    {
     "data": {
      "text/plain": [
       "[(0, 'a'), (1, 'n'), (2, 'a')]"
      ]
     },
     "execution_count": 68,
     "metadata": {},
     "output_type": "execute_result"
    }
   ],
   "source": [
    "list(enumerate('ana'))"
   ]
  },
  {
   "cell_type": "code",
   "execution_count": 69,
   "id": "4d8700a4",
   "metadata": {},
   "outputs": [
    {
     "name": "stdout",
     "output_type": "stream",
     "text": [
      "0 p\n",
      "1 p\n",
      "2 t\n",
      "3 h\n",
      "4 n\n",
      "5 n\n"
     ]
    }
   ],
   "source": [
    "for indice, caracter in enumerate(palabra_secreta):\n",
    "    print(indice,caracter)"
   ]
  },
  {
   "cell_type": "code",
   "execution_count": 70,
   "id": "62a6740c",
   "metadata": {},
   "outputs": [],
   "source": [
    "def verificar_letra2 (letra):\n",
    "    lista_palabra_secreta = list(palabra_secreta)  # convertimos la p.secreta a lista\n",
    "    print(lista_palabra_secreta)\n",
    "    for i in lista_palabra_secreta:  \n",
    "        if i == letra.upper():\n",
    "            indice = lista_palabra_secreta.index(i)\n",
    "            tablero_juego[indice] = letra.upper()\n",
    "        else:\n",
    "            print(f'La letra {letra} no se encuentra en la palabra secreta.')\n",
    "            print('Intenta de nuevo!')"
   ]
  }
 ],
 "metadata": {
  "kernelspec": {
   "display_name": "base",
   "language": "python",
   "name": "python3"
  },
  "language_info": {
   "codemirror_mode": {
    "name": "ipython",
    "version": 3
   },
   "file_extension": ".py",
   "mimetype": "text/x-python",
   "name": "python",
   "nbconvert_exporter": "python",
   "pygments_lexer": "ipython3",
   "version": "3.12.3"
  }
 },
 "nbformat": 4,
 "nbformat_minor": 5
}
