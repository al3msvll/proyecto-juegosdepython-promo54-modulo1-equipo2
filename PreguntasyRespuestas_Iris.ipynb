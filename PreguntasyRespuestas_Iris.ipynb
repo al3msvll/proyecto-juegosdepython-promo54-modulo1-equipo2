{
 "cells": [
  {
   "cell_type": "markdown",
   "id": "1111e0e0",
   "metadata": {},
   "source": [
    "# Preguntas y Respuestas\n",
    "\n",
    "\n",
    "- Reglas del Juego de \"Preguntas y Respuestas de Geografía\":\n",
    "    - El juego consiste en hacer preguntas de geografía y que el jugador adivine la respuesta correcta.\n",
    "\n",
    "    - Cada pregunta tiene una respuesta única y correcta.\n",
    "\n",
    "    - El jugador tiene un número limitado de intentos para responder correctamente a cada pregunta.\n",
    "\n",
    "    - El juego sigue hasta que el jugador responda incorrectamente 3 de veces o haya respondido 5 preguntas correctamente.\n",
    "\n",
    "\n",
    "- Pistas para las alumnas:\n",
    "\n",
    "    1. Comienza creando un diccionario que contenga preguntas de geografía como claves y respuestas como valores.\n",
    "\n",
    "    2. Implementa una función para seleccionar una pregunta aleatoria del diccionario.\n",
    "\n",
    "    3. Utiliza un bucle `while` para hacer preguntas de geografía hasta que el jugador responda un número específico de preguntas correctamente o alcance un número máximo de respuestas incorrectas.\n",
    "\n",
    "    4. Dentro del bucle, presenta la pregunta al jugador y permita que ingresen sus respuestas.\n",
    "\n",
    "    5. Lleva un seguimiento del número de preguntas realizadas y el número de respuestas correctas.\n",
    "\n",
    "    6. Determina las condiciones de victoria y derrota del juego y sal del bucle cuando se cumplan estas condiciones."
   ]
  },
  {
   "cell_type": "code",
   "execution_count": 1,
   "id": "a1a28b5d",
   "metadata": {},
   "outputs": [],
   "source": [
    "import random as rd"
   ]
  },
  {
   "cell_type": "code",
   "execution_count": 2,
   "id": "90273103",
   "metadata": {},
   "outputs": [],
   "source": [
    "# 1. Diccionario que contenga las preguntas (claves) y las respuestas (valores)\n",
    "preguntas_respuestas = {\n",
    "    '1. ¿Cuál es el continente donde se encuentra Egipto?': 'África',      \n",
    "    '2. ¿Cuál es el río más largo del mundo?': 'río Nilo',         \n",
    "    '3. ¿En qué continente está Brasil?' : 'América del Sur',\n",
    "    '4. ¿Cuál es el océano más grande del planeta?': 'El océano Pacífico',     \n",
    "    '5. ¿Cuál es la capital de Francia?': 'París',\n",
    "    '6. ¿Qué país tiene forma de bota en Europa?': 'Italia',\n",
    "    '7. ¿Cuántos continentes hay en el mundo?': 'Siete', \n",
    "    '8. ¿En qué país está la Gran Muralla?' : 'China',\n",
    "    '9. ¿Qué continente es también un país?': 'Australia',\n",
    "    '10. ¿Cómo se llama el polo donde hace mucho frío y viven los pingüinos?': 'Polo Sur'}"
   ]
  },
  {
   "cell_type": "code",
   "execution_count": 3,
   "id": "4febbc07",
   "metadata": {},
   "outputs": [],
   "source": [
    "lista_preguntas = list(preguntas_respuestas.keys())\n",
    "lista_respuestas = list(preguntas_respuestas.values())"
   ]
  },
  {
   "cell_type": "code",
   "execution_count": 4,
   "id": "82eeaefd",
   "metadata": {},
   "outputs": [],
   "source": [
    "# print(lista_preguntas)\n",
    "# print(lista_respuestas)"
   ]
  },
  {
   "cell_type": "code",
   "execution_count": 5,
   "id": "d0d4c630",
   "metadata": {},
   "outputs": [
    {
     "data": {
      "text/plain": [
       "'2. ¿Cuál es el río más largo del mundo?'"
      ]
     },
     "execution_count": 5,
     "metadata": {},
     "output_type": "execute_result"
    }
   ],
   "source": [
    "# 2. Implementa una función para seleccionar una pregunta aleatoria del diccionario.\n",
    "\n",
    "rd.choice(lista_preguntas)"
   ]
  },
  {
   "cell_type": "code",
   "execution_count": 6,
   "id": "7482aa07",
   "metadata": {},
   "outputs": [],
   "source": [
    "def hacer_pregunta():\n",
    "    return rd.choice (lista_preguntas)\n",
    "\n",
    "# corregir que no salgan dos preguntas iguales seguidas"
   ]
  },
  {
   "cell_type": "code",
   "execution_count": 7,
   "id": "2aabc7e1",
   "metadata": {},
   "outputs": [
    {
     "data": {
      "text/plain": [
       "'6. ¿Qué país tiene forma de bota en Europa?'"
      ]
     },
     "execution_count": 7,
     "metadata": {},
     "output_type": "execute_result"
    }
   ],
   "source": [
    "hacer_pregunta()"
   ]
  },
  {
   "cell_type": "code",
   "execution_count": 8,
   "id": "0fbbede2",
   "metadata": {},
   "outputs": [],
   "source": [
    "diccionario = {1: True, 2: False}"
   ]
  },
  {
   "cell_type": "code",
   "execution_count": 9,
   "id": "84a70955",
   "metadata": {},
   "outputs": [
    {
     "data": {
      "text/plain": [
       "True"
      ]
     },
     "execution_count": 9,
     "metadata": {},
     "output_type": "execute_result"
    }
   ],
   "source": [
    "diccionario[1]"
   ]
  },
  {
   "cell_type": "code",
   "execution_count": 10,
   "id": "c2d99932",
   "metadata": {},
   "outputs": [
    {
     "name": "stdout",
     "output_type": "stream",
     "text": [
      "Incorrecto. La respuesta era: Polo Sur\n"
     ]
    }
   ],
   "source": [
    "aciertos = 0\n",
    "errores = 0\n",
    "pregunta = hacer_pregunta()\n",
    "\n",
    "while aciertos < 5 and errores < 3:\n",
    "    respuesta_usuario = input(pregunta + \" \").strip().lower()\n",
    "    respuesta_correcta = preguntas_respuestas[pregunta].strip().lower()\n",
    "    if respuesta_usuario == respuesta_correcta:\n",
    "        aciertos += 1\n",
    "        print(\"¡Correcto!\")\n",
    "        break\n",
    "    else:\n",
    "        errores += 1\n",
    "        print(\"Incorrecto. La respuesta era:\", preguntas_respuestas[pregunta])\n",
    "        break\n"
   ]
  }
 ],
 "metadata": {
  "kernelspec": {
   "display_name": "base",
   "language": "python",
   "name": "python3"
  },
  "language_info": {
   "codemirror_mode": {
    "name": "ipython",
    "version": 3
   },
   "file_extension": ".py",
   "mimetype": "text/x-python",
   "name": "python",
   "nbconvert_exporter": "python",
   "pygments_lexer": "ipython3",
   "version": "3.12.3"
  }
 },
 "nbformat": 4,
 "nbformat_minor": 5
}
