{
 "cells": [
  {
   "cell_type": "markdown",
   "id": "57e5faef",
   "metadata": {},
   "source": [
    "# JUEGO DEL AHORCADO"
   ]
  },
  {
   "cell_type": "code",
   "execution_count": 1,
   "id": "205e062b",
   "metadata": {},
   "outputs": [],
   "source": [
    "import random"
   ]
  },
  {
   "cell_type": "code",
   "execution_count": null,
   "id": "d8afe397",
   "metadata": {},
   "outputs": [
    {
     "name": "stdout",
     "output_type": "stream",
     "text": [
      "Bienvenido al Juego del Ahorcado\n",
      "COMIDA\n"
     ]
    }
   ],
   "source": [
    "print('Bienvenido al Juego del Ahorcado')\n",
    "\n",
    "## Caso en el que haya dos jugadores: uno de los jugadores seleccionará la palabra. \n",
    "\n",
    "palabra = input('Indique la palabra secreta:').upper()\n"
   ]
  },
  {
   "cell_type": "code",
   "execution_count": null,
   "id": "24ed95bd",
   "metadata": {},
   "outputs": [],
   "source": [
    "## Caso en el que haya un jugador. Se seleccionará de una lista una palabra a adivinar.\n",
    "## Para ello se tiene también una función donde se pueda ir añadiendo a esa lista diferentes palabras.   \n",
    "\n",
    "# Lista vacia\n",
    "lista_palabras = []\n",
    "\n",
    "# Función para agregar palabras a una lista\n",
    "def agregar_palabras(palabra):\n",
    "    palabra = str(palabra).upper()\n",
    "\n",
    "    if palabra in lista_palabras:\n",
    "        print('La palabra ya se encuentra en la lista.')\n",
    "    else: \n",
    "        lista_palabras.append(palabra)\n",
    "        print('Palabra añadida con éxito.')\n",
    "\n",
    "\n",
    "# Agregar palabras a la lista vacia\n",
    "agregar_palabras('lagarto')\n",
    "agregar_palabras('montaña')\n",
    "agregar_palabras('tijeras')\n",
    "agregar_palabras('espejo')\n",
    "agregar_palabras('naranja')\n",
    "\n",
    "# Selección de la palabra para el caso de 1 jugador.\n",
    "palabra = random.choice(lista_palabras)"
   ]
  },
  {
   "cell_type": "code",
   "execution_count": null,
   "id": "80b07c54",
   "metadata": {},
   "outputs": [],
   "source": [
    "## Se compacta la seleccion de palabra independientemente de si se tiene 1 o 2 jugadores. \n",
    "## ya que hay que indicarle a la función el número de jugadores. \n",
    "\n",
    "def eleccion_palabra(numero_jugadores, lista_palabras = None): \n",
    "    if numero_jugadores == 1: \n",
    "        palabra = random.choice(lista_palabras)\n",
    "        return palabra\n",
    "    elif numero_jugadores == 2: \n",
    "        palabra = input('Indique la palabra secreta:').upper()\n",
    "        return palabra\n",
    "    else: \n",
    "        print('Ese número de jugadores no es posible.')\n",
    "        print('Indique si son 1 o 2 jugadores.')\n"
   ]
  },
  {
   "cell_type": "code",
   "execution_count": 21,
   "id": "f297ad27",
   "metadata": {},
   "outputs": [],
   "source": [
    "a = eleccion_palabra(1, lista_palabras)"
   ]
  },
  {
   "cell_type": "code",
   "execution_count": 22,
   "id": "452a1e08",
   "metadata": {},
   "outputs": [
    {
     "data": {
      "text/plain": [
       "'MONTAÑA'"
      ]
     },
     "execution_count": 22,
     "metadata": {},
     "output_type": "execute_result"
    }
   ],
   "source": [
    "a"
   ]
  },
  {
   "cell_type": "code",
   "execution_count": 23,
   "id": "05434972",
   "metadata": {},
   "outputs": [],
   "source": [
    "b = eleccion_palabra(2)"
   ]
  },
  {
   "cell_type": "code",
   "execution_count": 24,
   "id": "5b883ab9",
   "metadata": {},
   "outputs": [
    {
     "data": {
      "text/plain": [
       "'COMIDA'"
      ]
     },
     "execution_count": 24,
     "metadata": {},
     "output_type": "execute_result"
    }
   ],
   "source": [
    "b"
   ]
  },
  {
   "cell_type": "code",
   "execution_count": 25,
   "id": "05862841",
   "metadata": {},
   "outputs": [
    {
     "name": "stdout",
     "output_type": "stream",
     "text": [
      "Ese número de jugadores no es posible.\n",
      "Indique si son 1 o 2 jugadores.\n"
     ]
    }
   ],
   "source": [
    "c = eleccion_palabra(3)"
   ]
  },
  {
   "cell_type": "code",
   "execution_count": 26,
   "id": "d90b6601",
   "metadata": {},
   "outputs": [],
   "source": [
    "c"
   ]
  },
  {
   "cell_type": "code",
   "execution_count": null,
   "id": "5af5af01",
   "metadata": {},
   "outputs": [],
   "source": []
  }
 ],
 "metadata": {
  "kernelspec": {
   "display_name": "base",
   "language": "python",
   "name": "python3"
  },
  "language_info": {
   "codemirror_mode": {
    "name": "ipython",
    "version": 3
   },
   "file_extension": ".py",
   "mimetype": "text/x-python",
   "name": "python",
   "nbconvert_exporter": "python",
   "pygments_lexer": "ipython3",
   "version": "3.12.7"
  }
 },
 "nbformat": 4,
 "nbformat_minor": 5
}
