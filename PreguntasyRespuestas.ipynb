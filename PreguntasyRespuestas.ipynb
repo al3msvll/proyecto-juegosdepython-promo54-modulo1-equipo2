{
 "cells": [
  {
   "cell_type": "markdown",
   "id": "74c3ca67",
   "metadata": {},
   "source": [
    "# Preguntas y Respuestas\n"
   ]
  },
  {
   "cell_type": "code",
   "execution_count": 27,
   "id": "4a136581",
   "metadata": {},
   "outputs": [],
   "source": [
    "import random as rd"
   ]
  },
  {
   "cell_type": "code",
   "execution_count": 28,
   "id": "d836ab4d",
   "metadata": {},
   "outputs": [],
   "source": [
    "# 1. Diccionario que contenga las preguntas (claves) y las respuestas (valores)\n",
    "\n",
    "preguntas_respuestas = {\n",
    "    '1. ¿Cuál es el continente donde se encuentra Egipto?': 'África',      \n",
    "    '2. ¿Cuál es el río más largo del mundo?': 'río Amazonas',         \n",
    "    '3. ¿En qué continente está Brasil?' : 'América del Sur',\n",
    "    '4. ¿Cuál es el océano más grande del planeta?': 'El océano Pacífico',     \n",
    "    '5. ¿Cuál es la capital de Francia?': 'París',\n",
    "    '6. ¿Qué país tiene forma de bota en Europa?': 'Italia',\n",
    "    '7. ¿Cuál es el desiero más grande del mundo?': 'Desierto del Sahara', \n",
    "    '8. ¿En qué país está la Gran Muralla?' : 'China',\n",
    "    '9. ¿Qué continente es también un país?': 'Australia',\n",
    "    '10. ¿Cómo se llama el polo donde hace mucho frío y viven los pingüinos?': 'Polo Sur'}\n",
    "\n"
   ]
  },
  {
   "cell_type": "code",
   "execution_count": 29,
   "id": "7c9e2fe7",
   "metadata": {},
   "outputs": [],
   "source": [
    "# Creación de listas con las preguntas y con las respuestas del diccionario\n",
    "lista_preguntas = list(preguntas_respuestas.keys())\n",
    "lista_respuestas = list(preguntas_respuestas.values())"
   ]
  },
  {
   "cell_type": "code",
   "execution_count": 30,
   "id": "88418205",
   "metadata": {},
   "outputs": [],
   "source": [
    "def hacer_pregunta():\n",
    "    return rd.choice (lista_preguntas)\n",
    "\n",
    "# coregir queno salgan dos preguntas iguales seguidas"
   ]
  },
  {
   "cell_type": "code",
   "execution_count": 33,
   "id": "800daa90",
   "metadata": {},
   "outputs": [],
   "source": [
    "def juego_preguntas_respuestas():\n",
    "    print('Bienvenido al juego de Preguntas y Respuestas!!')\n",
    "    print('...............................................')\n",
    "    print('Para ganar el juego, necesitas acertar un mínimo de 5 preguntas,')\n",
    "    print('y se te eliminará si acumulas 3 errores.')\n",
    "    print('Suerte!')\n",
    "    aciertos= 0\n",
    "    errores = 0\n",
    "    preguntas_hechas= 0\n",
    "    while aciertos < 5 and errores < 3:\n",
    "        pregunta = hacer_pregunta() #nueva pregunta cada vez\n",
    "        respuesta_usuario = input(pregunta + \" \").strip().lower()\n",
    "        respuesta_correcta = preguntas_respuestas[pregunta].strip().lower()\n",
    "        preguntas_hechas += 1\n",
    "        if respuesta_usuario == respuesta_correcta:\n",
    "            aciertos += 1\n",
    "            print(\"¡Correcto!\")\n",
    "        \n",
    "        else:\n",
    "            errores += 1\n",
    "            print(\"Incorrecto. La respuesta era:\", preguntas_respuestas[pregunta])\n",
    "\n",
    "    if aciertos >= 5:\n",
    "        print(\"¡Enhorabuena has ganado!\")\n",
    "        print('..............................')\n",
    "        print(f'Número de respuestas correctas: {aciertos}')\n",
    "        print(f'Número de respuestas incorrectas: {errores}')\n",
    "    elif errores == 3:\n",
    "        print(\"Game Over\")\n",
    "        print('..............................')\n",
    "        print(f'Número de respuestas correctas: {aciertos}')\n",
    "        print(f'Número de respuestas incorrectas: {errores}')"
   ]
  },
  {
   "cell_type": "code",
   "execution_count": 34,
   "id": "8c84b037",
   "metadata": {},
   "outputs": [
    {
     "name": "stdout",
     "output_type": "stream",
     "text": [
      "Bienvenido al juego de Preguntas y Respuestas!!\n",
      "...............................................\n",
      "Para ganar el juego, necesitas acertar un mínimo de 5 preguntas,\n",
      "y se te eliminará si acumulas 3 errores.\n",
      "Suerte!\n",
      "Incorrecto. La respuesta era: Desierto del Sahara\n",
      "¡Correcto!\n",
      "¡Correcto!\n",
      "Incorrecto. La respuesta era: América del Sur\n",
      "Incorrecto. La respuesta era: Italia\n",
      "Game Over\n",
      "..............................\n",
      "Número de respuestas correctas: 2\n",
      "Número de respuestas incorrectas: 3\n"
     ]
    }
   ],
   "source": [
    "juego_preguntas_respuestas()"
   ]
  }
 ],
 "metadata": {
  "kernelspec": {
   "display_name": "base",
   "language": "python",
   "name": "python3"
  },
  "language_info": {
   "codemirror_mode": {
    "name": "ipython",
    "version": 3
   },
   "file_extension": ".py",
   "mimetype": "text/x-python",
   "name": "python",
   "nbconvert_exporter": "python",
   "pygments_lexer": "ipython3",
   "version": "3.12.3"
  }
 },
 "nbformat": 4,
 "nbformat_minor": 5
}
