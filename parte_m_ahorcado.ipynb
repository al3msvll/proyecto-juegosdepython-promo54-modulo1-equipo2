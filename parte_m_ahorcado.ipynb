{
 "cells": [
  {
   "cell_type": "markdown",
   "id": "1e978522",
   "metadata": {},
   "source": [
    "# Ahorcado\n",
    "\n",
    "- Reglas del juego del \"Ahorcado\":\n",
    "\n",
    "    - Un jugador elige una palabra secreta y dibuja un espacio para cada letra de la palabra.\n",
    "\n",
    "    - El otro jugador intenta adivinar letras para completar la palabra.\n",
    "\n",
    "    - Si el jugador adivinador adivina una letra correctamente, se revela en su lugar correspondiente.\n",
    "\n",
    "    - Si el jugador adivinador adivina incorrectamente, se dibuja una parte del cuerpo en la horca.\n",
    "\n",
    "    - El objetivo del jugador adivinador es adivinar la palabra antes de que se dibuje el dibujo completo en la horca.\n",
    "\n",
    "\n",
    "- Pistas para las alumnas:\n",
    "\n",
    "    1. Empieza por seleccionar una palabra secreta para que el jugador adivinador intente adivinar. Puedes crear una lista de palabras.\n",
    "\n",
    "    2. Inicializa el tablero de juego con guiones bajos (\"_\") para representar las letras no adivinadas.\n",
    "\n",
    "    3. Utiliza un bucle `while` para permitir que el jugador adivinador haga múltiples intentos hasta que adivine la palabra o se agoten los intentos.\n",
    "\n",
    "    4. Verifica si la letra adivinada por el jugador está en la palabra secreta y actualicen el tablero en consecuencia.\n",
    "\n",
    "    5. Lleva un seguimiento de las letras adivinadas y los intentos fallidos.  #######\n",
    "\n",
    "    6. Determina las condiciones de victoria y derrota del juego, y salgan del bucle cuando se cumplan estas condiciones.\n"
   ]
  },
  {
   "cell_type": "code",
   "execution_count": null,
   "id": "7fa499dd",
   "metadata": {},
   "outputs": [],
   "source": [
    "letras_adivinadas = []\n",
    "intentos_fallidos = 0\n",
    "palabra_secreta = \"universo\"\n",
    "letras_palabra_secreta = [\"u\", \"n\", \"i\", \"v\", \"e\", \"r\", \"s\", \"o\"]\n",
    "\n",
    "for letra in letras_palabra_secreta:\n",
    "    if letra in letras_palabra_secreta:\n",
    "        letras_adivinadas.append(letra)\n",
    "        print(f\"La letra: {letras_palabra_secreta} está en la palabra secreta\")\n",
    "    else:\n",
    "        intentos_fallidos += 1\n",
    "        print(f\"Lo siento, la letra: {letras_palabra_secreta} no está en la palabra secreta. Inténtalo otra vez\")\n",
    "\n",
    "print(\"Letras adinvinadas: {letras_adivinadas}\")\n",
    "print(\"Intentos fallidos: {intentos_fallidos}\")\n",
    "\n",
    "\n"
   ]
  }
 ],
 "metadata": {
  "kernelspec": {
   "display_name": "Python 3",
   "language": "python",
   "name": "python3"
  },
  "language_info": {
   "name": "python",
   "version": "3.13.3"
  }
 },
 "nbformat": 4,
 "nbformat_minor": 5
}
