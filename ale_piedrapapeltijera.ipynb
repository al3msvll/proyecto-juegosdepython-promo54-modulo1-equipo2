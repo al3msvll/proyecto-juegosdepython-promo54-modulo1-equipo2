{
 "cells": [
  {
   "cell_type": "code",
   "execution_count": null,
   "id": "82d25ed9",
   "metadata": {},
   "outputs": [],
   "source": [
    "#JUEGO: PIEDRA PAPEL TIJERA\n",
    "#este es un juego clásico en el que dos jugadores seleccionan una de tres opciones: Piedra, Papel o Tijera. Cada opción tiene una relación de victoria diferente: la Piedra vence a la Tijera, la Tijera vence al Papel y el Papel vence a la Piedra. El objetivo del juego es elegir la opción que vencerá a la opción seleccionada por el oponente. El juego se juega en rondas y el jugador que gana más rondas es el ganador del juego.\n"
   ]
  },
  {
   "cell_type": "code",
   "execution_count": null,
   "id": "c05f4184",
   "metadata": {},
   "outputs": [],
   "source": [
    "\n",
    "#Genera una elección aleatoria para el segundo jugador (la computadora) utilizando el módulo random. @al3msvll\n",
    "##random es una herramienta con la que se puede installar una librería random escribiendo\n",
    "##import: random o import.random as rd,\n",
    "##random.choice() en lugar de random.choice() en la terminal\n",
    "##por ejemplo import.datetime hoy= datetime.date.today()\n",
    "import random\n",
    "def jugar_piedra_papel_tijera():\n",
    "    opciones = [\"piedra\", \"papel\", \"tijera\"]\n",
    "    jugador1 = input(\"Jugador 1, elige piedra, papel o tijera: \").lower()\n",
    "    jugador2 = random.choice(opciones)\n",
    "    \n",
    "    print(f\"Jugador 2 (computadora) eligió: {jugador2}\")\n",
    "    \n",
    "    if jugador1 == jugador2:\n",
    "        print(\"¡Es un empate!\")\n",
    "    elif (jugador1 == \"piedra\" and jugador2 == \"tijera\") or \\\n",
    "         (jugador1 == \"papel\" and jugador2 == \"piedra\") or \\\n",
    "         (jugador1 == \"tijera\" and jugador2 == \"papel\"):\n",
    "        print(\"¡Jugador 1 gana!\")\n",
    "    else:\n",
    "        print(\"¡Jugador 2 gana!\")\n",
    "    return jugar_piedra_papel_tijera()\n",
    "# Jugador 1 (humano) vs Jugador 2 (la computadora).\n",
    "# El jugador humano ingresa su elección, y la computadora elige aleatoriamente entre las tres opciones.\n",
    "# Luego, el programa determina el ganador según las reglas del juego\n",
    "# y muestra el resultado."
   ]
  }
 ],
 "metadata": {
  "kernelspec": {
   "display_name": "base",
   "language": "python",
   "name": "python3"
  },
  "language_info": {
   "codemirror_mode": {
    "name": "ipython",
    "version": 3
   },
   "file_extension": ".py",
   "mimetype": "text/x-python",
   "name": "python",
   "nbconvert_exporter": "python",
   "pygments_lexer": "ipython3",
   "version": "3.12.7"
  }
 },
 "nbformat": 4,
 "nbformat_minor": 5
}
